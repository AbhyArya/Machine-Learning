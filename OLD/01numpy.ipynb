{
 "cells": [
  {
   "cell_type": "code",
   "execution_count": 5,
   "id": "4d2f0695-7f13-409b-84a9-8e06c3d09a3d",
   "metadata": {},
   "outputs": [],
   "source": [
    "import numpy as np"
   ]
  },
  {
   "cell_type": "code",
   "execution_count": 6,
   "id": "8f3b5b30-634a-4609-b164-5581e73e744c",
   "metadata": {},
   "outputs": [],
   "source": [
    "mylist = [[1,2,3],[1,2,3]]"
   ]
  },
  {
   "cell_type": "code",
   "execution_count": 7,
   "id": "968d3bee-50ad-4738-aa2d-08d801799c48",
   "metadata": {},
   "outputs": [],
   "source": [
    "mylist = np.array(mylist) #numpy array contain only single data type if you are add another then whole array will change into higher data type"
   ]
  },
  {
   "cell_type": "code",
   "execution_count": 8,
   "id": "88fe7d71-6628-4751-9977-a74b1f9ae5f1",
   "metadata": {},
   "outputs": [
    {
     "name": "stdout",
     "output_type": "stream",
     "text": [
      "[[1 2 3]\n",
      " [1 2 3]]\n"
     ]
    }
   ],
   "source": [
    "print(mylist)"
   ]
  },
  {
   "cell_type": "code",
   "execution_count": 9,
   "id": "e6dd0bde-8b44-40b0-bd07-534679e4f752",
   "metadata": {},
   "outputs": [
    {
     "data": {
      "text/plain": [
       "2"
      ]
     },
     "execution_count": 9,
     "metadata": {},
     "output_type": "execute_result"
    }
   ],
   "source": [
    "mylist.ndim  # it return no of rows "
   ]
  },
  {
   "cell_type": "code",
   "execution_count": 10,
   "id": "8df4134c-4dd1-41f9-ba38-0de533b6eafd",
   "metadata": {},
   "outputs": [
    {
     "data": {
      "text/plain": [
       "(2, 3)"
      ]
     },
     "execution_count": 10,
     "metadata": {},
     "output_type": "execute_result"
    }
   ],
   "source": [
    "mylist.shape  # it return dimention of np array n*m"
   ]
  },
  {
   "cell_type": "code",
   "execution_count": 11,
   "id": "73c6f2bb-160f-4a50-a159-88889793e278",
   "metadata": {},
   "outputs": [
    {
     "name": "stdout",
     "output_type": "stream",
     "text": [
      "[0. 0. 0. 0. 0.]\n"
     ]
    }
   ],
   "source": [
    "arr= np.zeros(5)  # return 1d np-array with 0\n",
    "print(arr)"
   ]
  },
  {
   "cell_type": "code",
   "execution_count": 12,
   "id": "1d796034-75f1-4253-9446-7a1768317a66",
   "metadata": {},
   "outputs": [
    {
     "name": "stdout",
     "output_type": "stream",
     "text": [
      "[[0. 0. 0. 0. 0.]\n",
      " [0. 0. 0. 0. 0.]]\n"
     ]
    }
   ],
   "source": [
    "arr = np.zeros((2,5))  # return 2d np-array with 0\n",
    "print(arr)"
   ]
  },
  {
   "cell_type": "code",
   "execution_count": 13,
   "id": "a741ccf1-0eb3-444f-a699-f85329695486",
   "metadata": {},
   "outputs": [
    {
     "name": "stdout",
     "output_type": "stream",
     "text": [
      "[1. 1. 1. 1. 1.]\n"
     ]
    }
   ],
   "source": [
    "arr = np.ones(5)  # return 1d np-array with 1\n",
    "print(arr)"
   ]
  },
  {
   "cell_type": "code",
   "execution_count": 14,
   "id": "54e223b5-f667-4d89-a906-160e0a79a30b",
   "metadata": {},
   "outputs": [],
   "source": [
    "arr= np.ones((5,2))   # return 1d np-array with 0"
   ]
  },
  {
   "cell_type": "code",
   "execution_count": 15,
   "id": "e40d7634-9750-403a-b759-89d91d70d87c",
   "metadata": {},
   "outputs": [
    {
     "name": "stdout",
     "output_type": "stream",
     "text": [
      "[[1. 1.]\n",
      " [1. 1.]\n",
      " [1. 1.]\n",
      " [1. 1.]\n",
      " [1. 1.]]\n"
     ]
    }
   ],
   "source": [
    "print(arr)"
   ]
  },
  {
   "cell_type": "code",
   "execution_count": 16,
   "id": "0178c2b4-9d05-41b1-ac62-41e8c750c217",
   "metadata": {},
   "outputs": [
    {
     "name": "stdout",
     "output_type": "stream",
     "text": [
      "[[1. 0. 0. 0. 0.]\n",
      " [0. 1. 0. 0. 0.]\n",
      " [0. 0. 1. 0. 0.]\n",
      " [0. 0. 0. 1. 0.]\n",
      " [0. 0. 0. 0. 1.]]\n"
     ]
    }
   ],
   "source": [
    "arr= np.eye(5)  # return 2d np-array of size 5*5 with all diagonal value = 1 and other = 0\n",
    "print(arr)"
   ]
  },
  {
   "cell_type": "code",
   "execution_count": 17,
   "id": "a7a71016-7ed6-4653-b6fd-77479cbc9456",
   "metadata": {},
   "outputs": [],
   "source": [
    "arr = np.eye(3,6)  # return 2d np-array of size 5*5 with all diagonal value = 1 starting from 0,0 index and other = 0"
   ]
  },
  {
   "cell_type": "code",
   "execution_count": 18,
   "id": "73857ea1-94ef-4c2e-bd7e-340afc1dddca",
   "metadata": {},
   "outputs": [
    {
     "name": "stdout",
     "output_type": "stream",
     "text": [
      "[[1. 0. 0. 0. 0. 0.]\n",
      " [0. 1. 0. 0. 0. 0.]\n",
      " [0. 0. 1. 0. 0. 0.]]\n"
     ]
    }
   ],
   "source": [
    "print(arr)"
   ]
  },
  {
   "cell_type": "code",
   "execution_count": 19,
   "id": "79f3286f-c56c-45c6-9838-242bc9d3a74d",
   "metadata": {},
   "outputs": [
    {
     "name": "stdout",
     "output_type": "stream",
     "text": [
      "[[1 0 0 0]\n",
      " [0 2 0 0]\n",
      " [0 0 3 0]\n",
      " [0 0 0 4]]\n"
     ]
    }
   ],
   "source": [
    "arr = np.diag([1,2,3,4])    # return 2d np-array of size of the size of passed array with all diagonal value = element in passed array  and other = 0\n",
    "print(arr)"
   ]
  },
  {
   "cell_type": "code",
   "execution_count": 20,
   "id": "a3206bfd-f490-4001-8c18-58e2af0d36ff",
   "metadata": {},
   "outputs": [
    {
     "name": "stdout",
     "output_type": "stream",
     "text": [
      "[1 2 3 4]\n"
     ]
    }
   ],
   "source": [
    "print(np.diag(arr))  # return diagonal of np-array"
   ]
  },
  {
   "cell_type": "code",
   "execution_count": 21,
   "id": "aabc1dfc-de52-4cc3-ab8c-8573d9dbc9c8",
   "metadata": {},
   "outputs": [
    {
     "name": "stdout",
     "output_type": "stream",
     "text": [
      "[ 4  3  3 10]\n"
     ]
    }
   ],
   "source": [
    "rand_arr = np.random.randint(1,15,4)  #return np-array (starting value, end value-1 , size) and size may be nd\n",
    "print(rand_arr)"
   ]
  },
  {
   "cell_type": "code",
   "execution_count": 22,
   "id": "bb03ce64-3947-4629-a551-e694289203bf",
   "metadata": {},
   "outputs": [
    {
     "name": "stdout",
     "output_type": "stream",
     "text": [
      "[0.77202214 0.49299812 0.26456055 0.33186962]\n"
     ]
    }
   ],
   "source": [
    "rand_arr = np.random.rand(4)  #return np-array size 4 and element value between 0-1 randomly\n",
    "print(rand_arr)"
   ]
  },
  {
   "cell_type": "code",
   "execution_count": 23,
   "id": "ea00e2bc-c49d-4496-990c-940aafa78913",
   "metadata": {},
   "outputs": [
    {
     "name": "stdout",
     "output_type": "stream",
     "text": [
      "[[0.40831199 0.1736365  0.49909347 0.07720075 0.74500893]\n",
      " [0.74456631 0.02105093 0.56380021 0.38419611 0.83071493]\n",
      " [0.93119467 0.67472648 0.80944339 0.29388451 0.94165346]\n",
      " [0.94647509 0.22298824 0.02881034 0.87016734 0.05203942]]\n"
     ]
    }
   ],
   "source": [
    "rand_arr = np.random.rand(4,5)  #return np-array size 4*5 and element value between 0-1 randomly\n",
    "print(rand_arr)"
   ]
  },
  {
   "cell_type": "code",
   "execution_count": 24,
   "id": "43e44eaa-6b9e-4e5d-b727-e7a1e4efc08c",
   "metadata": {},
   "outputs": [
    {
     "name": "stdout",
     "output_type": "stream",
     "text": [
      "[1.70647828 0.55427012 0.15877127 1.27265031]\n"
     ]
    }
   ],
   "source": [
    "rand_arr = np.random.randn(4)   #return np-array size 4 and element value between -1 - 1 randomly\n",
    "print(rand_arr)"
   ]
  },
  {
   "cell_type": "code",
   "execution_count": 25,
   "id": "bbbba40f-80dd-44d4-b6b2-51961b1e6349",
   "metadata": {},
   "outputs": [
    {
     "name": "stdout",
     "output_type": "stream",
     "text": [
      "[[ 1.11435379  1.56650114 -0.22240889  0.35786991  0.38749242]\n",
      " [ 0.75529062  1.71334551 -0.0722715  -1.52576665  0.56404288]\n",
      " [ 0.23734549  1.13278827  1.13582817 -1.63278004  1.09608588]\n",
      " [ 1.10935823 -0.19802869  1.09234948  0.50298548 -1.02533054]]\n"
     ]
    }
   ],
   "source": [
    "rand_arr = np.random.randn(4,5)  #return np-array size 4*5 and element value between -1 - 1 randomly\n",
    "print(rand_arr)"
   ]
  },
  {
   "cell_type": "code",
   "execution_count": 26,
   "id": "0f0d4196-9c88-46e2-83ed-8ad9de7d2b3f",
   "metadata": {},
   "outputs": [
    {
     "data": {
      "text/plain": [
       "0.404452548139696"
      ]
     },
     "execution_count": 26,
     "metadata": {},
     "output_type": "execute_result"
    }
   ],
   "source": [
    "np.mean(rand_arr)  # return mean of the value of all elements of np-array"
   ]
  },
  {
   "cell_type": "code",
   "execution_count": 27,
   "id": "eb22cbab-b5c8-4b31-aa95-be4290688372",
   "metadata": {},
   "outputs": [
    {
     "data": {
      "text/plain": [
       "array([56, 22, 52, 98, 36,  4, 92,  6, 23, 23,  2,  6, 33, 99, 83, 84, 24,\n",
       "       80, 65, 23])"
      ]
     },
     "execution_count": 27,
     "metadata": {},
     "output_type": "execute_result"
    }
   ],
   "source": [
    "arr = np.random.randint(1,100,20)\n",
    "arr"
   ]
  },
  {
   "cell_type": "code",
   "execution_count": 28,
   "id": "d253db56-25e4-4a9e-8bf1-782e16301e0d",
   "metadata": {},
   "outputs": [
    {
     "data": {
      "text/plain": [
       "(20,)"
      ]
     },
     "execution_count": 28,
     "metadata": {},
     "output_type": "execute_result"
    }
   ],
   "source": [
    "arr.shape\n"
   ]
  },
  {
   "cell_type": "code",
   "execution_count": 29,
   "id": "ddd3e0d5-2fc3-42d4-95d2-e5f39df388b8",
   "metadata": {},
   "outputs": [
    {
     "data": {
      "text/plain": [
       "array([[56, 22, 52, 98, 36,  4, 92,  6, 23, 23],\n",
       "       [ 2,  6, 33, 99, 83, 84, 24, 80, 65, 23]])"
      ]
     },
     "execution_count": 29,
     "metadata": {},
     "output_type": "execute_result"
    }
   ],
   "source": [
    "arr = arr.reshape(2,10)   # return the array with the passed n*m size and the size array size should equal to n*m\n",
    "arr"
   ]
  },
  {
   "cell_type": "code",
   "execution_count": 30,
   "id": "da157823-d90f-493c-9cdb-5e6aa8d459c3",
   "metadata": {},
   "outputs": [
    {
     "data": {
      "text/plain": [
       "(2, 10)"
      ]
     },
     "execution_count": 30,
     "metadata": {},
     "output_type": "execute_result"
    }
   ],
   "source": [
    "arr.shape"
   ]
  },
  {
   "cell_type": "code",
   "execution_count": 31,
   "id": "d2b2d652-40ed-4a68-97fc-39b38d1042f6",
   "metadata": {},
   "outputs": [
    {
     "data": {
      "text/plain": [
       "2"
      ]
     },
     "execution_count": 31,
     "metadata": {},
     "output_type": "execute_result"
    }
   ],
   "source": [
    "arr.ndim"
   ]
  },
  {
   "cell_type": "code",
   "execution_count": 32,
   "id": "c3092388-ccb7-4a4d-ac21-9880da025e65",
   "metadata": {},
   "outputs": [],
   "source": [
    "arr = arr.reshape(20)"
   ]
  },
  {
   "cell_type": "code",
   "execution_count": 33,
   "id": "7bffb3be-f29b-4744-b57d-be5ee447e74d",
   "metadata": {},
   "outputs": [
    {
     "data": {
      "text/plain": [
       "array([56, 22, 52, 98, 36,  4, 92,  6, 23, 23,  2,  6, 33, 99, 83, 84, 24,\n",
       "       80, 65, 23])"
      ]
     },
     "execution_count": 33,
     "metadata": {},
     "output_type": "execute_result"
    }
   ],
   "source": [
    "arr"
   ]
  },
  {
   "cell_type": "code",
   "execution_count": 34,
   "id": "88b9bf39-8284-4e44-b99c-7ca7179dc366",
   "metadata": {},
   "outputs": [
    {
     "data": {
      "text/plain": [
       "array([[70, 55, 20, 27, 35],\n",
       "       [28, 21,  8, 12, 26],\n",
       "       [39, 85, 19, 55, 51],\n",
       "       [95,  4, 46, 30, 30],\n",
       "       [18, 30,  8, 18, 64],\n",
       "       [24, 94, 31, 93, 87],\n",
       "       [28, 28, 35, 73, 10],\n",
       "       [48,  8, 63, 97, 63],\n",
       "       [50, 71, 14, 88, 30],\n",
       "       [22, 45, 96, 11, 79]])"
      ]
     },
     "execution_count": 34,
     "metadata": {},
     "output_type": "execute_result"
    }
   ],
   "source": [
    "arr = np.random.randint(1,100,50)\n",
    "arr = arr.reshape(10,5)\n",
    "arr"
   ]
  },
  {
   "cell_type": "code",
   "execution_count": 35,
   "id": "0065e5af-bc01-4d61-b955-73aec692e6f0",
   "metadata": {},
   "outputs": [
    {
     "data": {
      "text/plain": [
       "2"
      ]
     },
     "execution_count": 35,
     "metadata": {},
     "output_type": "execute_result"
    }
   ],
   "source": [
    "arr.ndim"
   ]
  },
  {
   "cell_type": "code",
   "execution_count": 36,
   "id": "6b223f48-0279-4053-b388-bc9eb6a351ce",
   "metadata": {},
   "outputs": [],
   "source": [
    "arr = arr.reshape(2,5,5)"
   ]
  },
  {
   "cell_type": "code",
   "execution_count": 37,
   "id": "018ddc5b-9cd3-4091-a299-84a8a2e4736c",
   "metadata": {},
   "outputs": [
    {
     "data": {
      "text/plain": [
       "array([[[70, 55, 20, 27, 35],\n",
       "        [28, 21,  8, 12, 26],\n",
       "        [39, 85, 19, 55, 51],\n",
       "        [95,  4, 46, 30, 30],\n",
       "        [18, 30,  8, 18, 64]],\n",
       "\n",
       "       [[24, 94, 31, 93, 87],\n",
       "        [28, 28, 35, 73, 10],\n",
       "        [48,  8, 63, 97, 63],\n",
       "        [50, 71, 14, 88, 30],\n",
       "        [22, 45, 96, 11, 79]]])"
      ]
     },
     "execution_count": 37,
     "metadata": {},
     "output_type": "execute_result"
    }
   ],
   "source": [
    "arr"
   ]
  },
  {
   "cell_type": "code",
   "execution_count": 38,
   "id": "c0c8b88d-133d-46f9-a662-8f1479184949",
   "metadata": {},
   "outputs": [
    {
     "data": {
      "text/plain": [
       "array([25])"
      ]
     },
     "execution_count": 38,
     "metadata": {},
     "output_type": "execute_result"
    }
   ],
   "source": [
    "arr = np.reshape(25,-1)\n",
    "arr"
   ]
  },
  {
   "cell_type": "code",
   "execution_count": 39,
   "id": "5cf8289f-ed01-4af1-aeb1-70f555a587a0",
   "metadata": {},
   "outputs": [
    {
     "data": {
      "text/plain": [
       "array([25])"
      ]
     },
     "execution_count": 39,
     "metadata": {},
     "output_type": "execute_result"
    }
   ],
   "source": [
    "arr"
   ]
  },
  {
   "cell_type": "code",
   "execution_count": 40,
   "id": "94aa353f-888f-428a-aa39-c21a84c82001",
   "metadata": {},
   "outputs": [
    {
     "data": {
      "text/plain": [
       "array([[22, 19, 89, 16, 59],\n",
       "       [10, 58, 25, 96, 66],\n",
       "       [34, 17, 32, 70, 67],\n",
       "       [29, 19, 61, 84, 43],\n",
       "       [15, 52, 31,  7, 98],\n",
       "       [56,  4, 49,  8, 43],\n",
       "       [42, 74,  2, 76, 56],\n",
       "       [71, 30, 49,  6, 70],\n",
       "       [83, 28, 71, 92, 48],\n",
       "       [63, 64, 41, 11, 72]])"
      ]
     },
     "execution_count": 40,
     "metadata": {},
     "output_type": "execute_result"
    }
   ],
   "source": [
    "arr = np.random.randint(1,100,50)\n",
    "arr = arr.reshape(10,5)\n",
    "arr"
   ]
  },
  {
   "cell_type": "code",
   "execution_count": 41,
   "id": "06946bb1-1190-4cc8-a6ba-6d2cd50f4f27",
   "metadata": {},
   "outputs": [
    {
     "data": {
      "text/plain": [
       "array([[22, 19, 89, 16, 59, 10, 58, 25, 96, 66],\n",
       "       [34, 17, 32, 70, 67, 29, 19, 61, 84, 43],\n",
       "       [15, 52, 31,  7, 98, 56,  4, 49,  8, 43],\n",
       "       [42, 74,  2, 76, 56, 71, 30, 49,  6, 70],\n",
       "       [83, 28, 71, 92, 48, 63, 64, 41, 11, 72]])"
      ]
     },
     "execution_count": 41,
     "metadata": {},
     "output_type": "execute_result"
    }
   ],
   "source": [
    "arr = arr.reshape(5,-1)  #Here -1 indicate rest possible size\n",
    "arr"
   ]
  },
  {
   "cell_type": "code",
   "execution_count": 42,
   "id": "4e814c6b-2c44-4c24-9250-67e1223bbd1f",
   "metadata": {},
   "outputs": [
    {
     "data": {
      "text/plain": [
       "array([[22, 19, 89, 16, 59],\n",
       "       [10, 58, 25, 96, 66],\n",
       "       [34, 17, 32, 70, 67],\n",
       "       [29, 19, 61, 84, 43],\n",
       "       [15, 52, 31,  7, 98],\n",
       "       [56,  4, 49,  8, 43],\n",
       "       [42, 74,  2, 76, 56],\n",
       "       [71, 30, 49,  6, 70],\n",
       "       [83, 28, 71, 92, 48],\n",
       "       [63, 64, 41, 11, 72]])"
      ]
     },
     "execution_count": 42,
     "metadata": {},
     "output_type": "execute_result"
    }
   ],
   "source": [
    "arr = arr.reshape(-1,5)\n",
    "arr"
   ]
  },
  {
   "cell_type": "code",
   "execution_count": 43,
   "id": "8048d9b5-2946-493a-9aaa-a1841b68f55f",
   "metadata": {},
   "outputs": [
    {
     "data": {
      "text/plain": [
       "array([ 43,  69,  63, 109,  98,  67,  28,  10,  63,  78,  15, 107,  56,\n",
       "        94,  88,  73, 104,  61,  38, 100])"
      ]
     },
     "execution_count": 43,
     "metadata": {},
     "output_type": "execute_result"
    }
   ],
   "source": [
    "arr = np.random.randint(1,110, 20)\n",
    "arr"
   ]
  },
  {
   "cell_type": "code",
   "execution_count": 44,
   "id": "e6b9b4f3-f851-4b08-a485-acc60ddfb16f",
   "metadata": {},
   "outputs": [
    {
     "data": {
      "text/plain": [
       "array([ 83,  49,  75,  17, 103,  99,  26, 109,  59, 100,  27,  67,  47,\n",
       "        55, 102,  78,  75,  74,  76,  53])"
      ]
     },
     "execution_count": 44,
     "metadata": {},
     "output_type": "execute_result"
    }
   ],
   "source": [
    "np.random.seed(13)#same random array\n",
    "arr = np.random.randint(1,110,20)\n",
    "arr"
   ]
  },
  {
   "cell_type": "code",
   "execution_count": 45,
   "id": "a44b0450-b241-4469-a332-bf8020c61090",
   "metadata": {},
   "outputs": [
    {
     "data": {
      "text/plain": [
       "20"
      ]
     },
     "execution_count": 45,
     "metadata": {},
     "output_type": "execute_result"
    }
   ],
   "source": [
    "arr.size"
   ]
  },
  {
   "cell_type": "code",
   "execution_count": 46,
   "id": "9358ae8f-86d4-4c80-8637-1a565a2164d3",
   "metadata": {},
   "outputs": [
    {
     "name": "stdout",
     "output_type": "stream",
     "text": [
      "49\n"
     ]
    },
    {
     "data": {
      "text/plain": [
       "array([ 83,  49,  75,  17, 103,  99,  26, 109,  59, 100,  27,  67,  47,\n",
       "        55, 102,  78,  75,  74,  76])"
      ]
     },
     "execution_count": 46,
     "metadata": {},
     "output_type": "execute_result"
    }
   ],
   "source": [
    "index = arr[1]\n",
    "print(index)\n",
    "arr = arr[0:-1]\n",
    "arr"
   ]
  },
  {
   "cell_type": "code",
   "execution_count": 47,
   "id": "95558cf9-8e9b-48d4-9c80-2f87fc0b388b",
   "metadata": {},
   "outputs": [
    {
     "data": {
      "text/plain": [
       "array([[1, 2, 3],\n",
       "       [1, 2, 3],\n",
       "       [1, 2, 3]])"
      ]
     },
     "execution_count": 47,
     "metadata": {},
     "output_type": "execute_result"
    }
   ],
   "source": [
    "myarr = np.array([[1,2,3],[1,2,3],[1,2,3]])\n",
    "myarr\n"
   ]
  },
  {
   "cell_type": "code",
   "execution_count": 48,
   "id": "063f8741-a42f-4f37-96f4-f1af5cbf46e7",
   "metadata": {},
   "outputs": [
    {
     "data": {
      "text/plain": [
       "3"
      ]
     },
     "execution_count": 48,
     "metadata": {},
     "output_type": "execute_result"
    }
   ],
   "source": [
    "myarr[0][2]"
   ]
  },
  {
   "cell_type": "code",
   "execution_count": 49,
   "id": "bded728a-cdf3-4c2f-b2e9-85d9a1c41615",
   "metadata": {},
   "outputs": [
    {
     "data": {
      "text/plain": [
       "3"
      ]
     },
     "execution_count": 49,
     "metadata": {},
     "output_type": "execute_result"
    }
   ],
   "source": [
    "myarr[1,2]"
   ]
  },
  {
   "cell_type": "code",
   "execution_count": 50,
   "id": "8d5ec449-dabc-4253-bc44-77db23590def",
   "metadata": {},
   "outputs": [
    {
     "data": {
      "text/plain": [
       "array([[1, 2, 3],\n",
       "       [1, 2, 3],\n",
       "       [1, 2, 3]])"
      ]
     },
     "execution_count": 50,
     "metadata": {},
     "output_type": "execute_result"
    }
   ],
   "source": [
    "myarr\n",
    "\n"
   ]
  },
  {
   "cell_type": "code",
   "execution_count": 51,
   "id": "2dcea939-b4e3-44c1-8a01-7fc8b3e67088",
   "metadata": {},
   "outputs": [
    {
     "data": {
      "text/plain": [
       "array([[1, 2],\n",
       "       [1, 2]])"
      ]
     },
     "execution_count": 51,
     "metadata": {},
     "output_type": "execute_result"
    }
   ],
   "source": [
    "myarr[0:2,0:2]"
   ]
  },
  {
   "cell_type": "code",
   "execution_count": 52,
   "id": "e43e3158-6520-4c2d-81c9-852c0fb688b9",
   "metadata": {},
   "outputs": [
    {
     "data": {
      "text/plain": [
       "array([[1]])"
      ]
     },
     "execution_count": 52,
     "metadata": {},
     "output_type": "execute_result"
    }
   ],
   "source": [
    "thisIsview = myarr[:1, :1]\n",
    "thisIsview"
   ]
  },
  {
   "cell_type": "code",
   "execution_count": 53,
   "id": "1b978ae2-6472-4035-a3bc-28367dc5e35b",
   "metadata": {},
   "outputs": [
    {
     "data": {
      "text/plain": [
       "array([[0, 2, 3],\n",
       "       [1, 2, 3],\n",
       "       [1, 2, 3]])"
      ]
     },
     "execution_count": 53,
     "metadata": {},
     "output_type": "execute_result"
    }
   ],
   "source": [
    "thisIsview[0,0] = 0\n",
    "myarr"
   ]
  },
  {
   "cell_type": "code",
   "execution_count": 54,
   "id": "b8925aed-891d-4dd5-b601-27bb80702a48",
   "metadata": {},
   "outputs": [
    {
     "data": {
      "text/plain": [
       "array([[0]])"
      ]
     },
     "execution_count": 54,
     "metadata": {},
     "output_type": "execute_result"
    }
   ],
   "source": [
    "thisIsview"
   ]
  },
  {
   "cell_type": "code",
   "execution_count": 55,
   "id": "affa2c81-0a1f-441e-aef7-dd60ac697c95",
   "metadata": {},
   "outputs": [
    {
     "data": {
      "text/plain": [
       "array([[0, 2, 3],\n",
       "       [1, 2, 3],\n",
       "       [1, 2, 3]])"
      ]
     },
     "execution_count": 55,
     "metadata": {},
     "output_type": "execute_result"
    }
   ],
   "source": [
    "thisIscopy = myarr.copy()\n",
    "thisIscopy"
   ]
  },
  {
   "cell_type": "code",
   "execution_count": 56,
   "id": "d7a1613a-ea6f-4c11-82ba-b1d6bca0957d",
   "metadata": {},
   "outputs": [
    {
     "data": {
      "text/plain": [
       "array([[0, 0, 3],\n",
       "       [1, 2, 3],\n",
       "       [1, 2, 3]])"
      ]
     },
     "execution_count": 56,
     "metadata": {},
     "output_type": "execute_result"
    }
   ],
   "source": [
    "thisIscopy[0][1] = 0\n",
    "thisIscopy"
   ]
  },
  {
   "cell_type": "code",
   "execution_count": 57,
   "id": "a857e56d-e0f5-430b-bf51-1642d74c7c7b",
   "metadata": {},
   "outputs": [
    {
     "data": {
      "text/plain": [
       "array([[0, 2, 3],\n",
       "       [1, 2, 3],\n",
       "       [1, 2, 3]])"
      ]
     },
     "execution_count": 57,
     "metadata": {},
     "output_type": "execute_result"
    }
   ],
   "source": [
    "myarr"
   ]
  },
  {
   "cell_type": "code",
   "execution_count": 58,
   "id": "66605864-d88a-410a-bb6a-0dc53cd8fd84",
   "metadata": {},
   "outputs": [
    {
     "data": {
      "text/plain": [
       "array([ 1,  2,  3,  4,  5,  6,  7,  8,  9, 10])"
      ]
     },
     "execution_count": 58,
     "metadata": {},
     "output_type": "execute_result"
    }
   ],
   "source": [
    "arangeArr = np.arange(1,11)\n",
    "arangeArr"
   ]
  },
  {
   "cell_type": "code",
   "execution_count": 59,
   "id": "78ff4256-5bdf-494a-afa8-87cf477cb028",
   "metadata": {},
   "outputs": [
    {
     "data": {
      "text/plain": [
       "array([ True,  True,  True,  True,  True,  True,  True,  True,  True,\n",
       "        True,  True,  True,  True,  True,  True,  True,  True,  True,\n",
       "        True])"
      ]
     },
     "execution_count": 59,
     "metadata": {},
     "output_type": "execute_result"
    }
   ],
   "source": [
    "arr>5"
   ]
  },
  {
   "cell_type": "code",
   "execution_count": 60,
   "id": "7fc5e5c7-3dc5-440b-aa56-1edc265a01be",
   "metadata": {},
   "outputs": [
    {
     "data": {
      "text/plain": [
       "array([False, False, False, False, False,  True,  True,  True,  True,\n",
       "        True])"
      ]
     },
     "execution_count": 60,
     "metadata": {},
     "output_type": "execute_result"
    }
   ],
   "source": [
    "arangeArr>5"
   ]
  },
  {
   "cell_type": "code",
   "execution_count": 61,
   "id": "5ba71b4d-e860-448d-b40c-f77506601d14",
   "metadata": {},
   "outputs": [],
   "source": [
    "istrue = arangeArr>5"
   ]
  },
  {
   "cell_type": "code",
   "execution_count": 62,
   "id": "2f6d5f1c-5946-484c-96fc-3f2e7e62d541",
   "metadata": {},
   "outputs": [
    {
     "data": {
      "text/plain": [
       "array([False, False, False, False, False,  True,  True,  True,  True,\n",
       "        True])"
      ]
     },
     "execution_count": 62,
     "metadata": {},
     "output_type": "execute_result"
    }
   ],
   "source": [
    "istrue"
   ]
  },
  {
   "cell_type": "code",
   "execution_count": 63,
   "id": "535556cd-53a2-4439-a716-102e2ae642dc",
   "metadata": {},
   "outputs": [
    {
     "data": {
      "text/plain": [
       "array([ 6,  7,  8,  9, 10])"
      ]
     },
     "execution_count": 63,
     "metadata": {},
     "output_type": "execute_result"
    }
   ],
   "source": [
    "arangeArr[istrue]"
   ]
  },
  {
   "cell_type": "code",
   "execution_count": 64,
   "id": "66abad17-88fe-4304-837d-dd02e8d408b6",
   "metadata": {},
   "outputs": [
    {
     "data": {
      "text/plain": [
       "array([ 2,  4,  6,  8, 10])"
      ]
     },
     "execution_count": 64,
     "metadata": {},
     "output_type": "execute_result"
    }
   ],
   "source": [
    "arangeArr[arangeArr%2==0]"
   ]
  },
  {
   "cell_type": "code",
   "execution_count": 65,
   "id": "a81c85aa-7583-48dd-90e4-ec4d7a006259",
   "metadata": {},
   "outputs": [],
   "source": [
    "arangeArr[arangeArr%2==0] = 0"
   ]
  },
  {
   "cell_type": "code",
   "execution_count": 66,
   "id": "e4f796ce-5144-49f5-b231-533f7c643c44",
   "metadata": {},
   "outputs": [
    {
     "data": {
      "text/plain": [
       "array([1, 0, 3, 0, 5, 0, 7, 0, 9, 0])"
      ]
     },
     "execution_count": 66,
     "metadata": {},
     "output_type": "execute_result"
    }
   ],
   "source": [
    "arangeArr"
   ]
  },
  {
   "cell_type": "code",
   "execution_count": 67,
   "id": "475b761a-87f3-465c-80fa-e16c0a9d4914",
   "metadata": {},
   "outputs": [
    {
     "data": {
      "text/plain": [
       "array([ 5,  0, 15,  0, 25,  0, 35,  0, 45,  0])"
      ]
     },
     "execution_count": 67,
     "metadata": {},
     "output_type": "execute_result"
    }
   ],
   "source": [
    "arangeArr*5"
   ]
  },
  {
   "cell_type": "code",
   "execution_count": 68,
   "id": "a9bd8817-fbd8-4b02-b909-f7a1effcc3d3",
   "metadata": {},
   "outputs": [
    {
     "data": {
      "text/plain": [
       "array([ 6,  5,  8,  5, 10,  5, 12,  5, 14,  5])"
      ]
     },
     "execution_count": 68,
     "metadata": {},
     "output_type": "execute_result"
    }
   ],
   "source": [
    "arangeArr+5"
   ]
  },
  {
   "cell_type": "code",
   "execution_count": 69,
   "id": "846e4391-c454-420b-b472-aa4a543ac983",
   "metadata": {},
   "outputs": [
    {
     "data": {
      "text/plain": [
       "array([[2, 4, 6],\n",
       "       [2, 4, 6]])"
      ]
     },
     "execution_count": 69,
     "metadata": {},
     "output_type": "execute_result"
    }
   ],
   "source": [
    "arr1 = np.array([[1,2,3],[1,2,3]])\n",
    "arr2= np.array([[1,2,3],[1,2,3]])\n",
    "arr1+arr2"
   ]
  },
  {
   "cell_type": "code",
   "execution_count": 70,
   "id": "68a7e8cc-30be-4b85-8ffc-96681d9411eb",
   "metadata": {},
   "outputs": [],
   "source": [
    "np.random.seed(123)\n",
    "matrix1 = np.random.randint(1,12,9).reshape(3,3)\n",
    "matrix2 = np.random.randint(5,15,9).reshape(3,3)"
   ]
  },
  {
   "cell_type": "code",
   "execution_count": 71,
   "id": "587e36d1-bafe-434e-bf0c-8af161eb8571",
   "metadata": {},
   "outputs": [
    {
     "data": {
      "text/plain": [
       "array([[ 3,  3,  7],\n",
       "       [ 2,  4, 11],\n",
       "       [10,  7,  2]])"
      ]
     },
     "execution_count": 71,
     "metadata": {},
     "output_type": "execute_result"
    }
   ],
   "source": [
    "matrix1"
   ]
  },
  {
   "cell_type": "code",
   "execution_count": 72,
   "id": "76472d1a-c94b-4fb7-8c8b-678cd2bd6e14",
   "metadata": {},
   "outputs": [
    {
     "data": {
      "text/plain": [
       "array([[ 5,  6, 14],\n",
       "       [ 5,  5, 14],\n",
       "       [ 8,  9,  5]])"
      ]
     },
     "execution_count": 72,
     "metadata": {},
     "output_type": "execute_result"
    }
   ],
   "source": [
    "matrix2"
   ]
  },
  {
   "cell_type": "code",
   "execution_count": 73,
   "id": "f4e26648-0d70-4de6-8c15-1a7727839974",
   "metadata": {},
   "outputs": [
    {
     "data": {
      "text/plain": [
       "array([[ 8,  9, 21],\n",
       "       [ 7,  9, 25],\n",
       "       [18, 16,  7]])"
      ]
     },
     "execution_count": 73,
     "metadata": {},
     "output_type": "execute_result"
    }
   ],
   "source": [
    "matrix1+matrix2"
   ]
  },
  {
   "cell_type": "code",
   "execution_count": 74,
   "id": "8f0e5297-7172-4bd8-955d-1fb6edec2043",
   "metadata": {},
   "outputs": [
    {
     "data": {
      "text/plain": [
       "array([[ 86,  96, 119],\n",
       "       [118, 131, 139],\n",
       "       [101, 113, 248]])"
      ]
     },
     "execution_count": 74,
     "metadata": {},
     "output_type": "execute_result"
    }
   ],
   "source": [
    "matrix1.dot(matrix2)"
   ]
  },
  {
   "cell_type": "code",
   "execution_count": 75,
   "id": "be6e1717-b6d7-4a5f-8c09-85ac128e2c62",
   "metadata": {},
   "outputs": [
    {
     "data": {
      "text/plain": [
       "2"
      ]
     },
     "execution_count": 75,
     "metadata": {},
     "output_type": "execute_result"
    }
   ],
   "source": [
    "np.min(matrix1)"
   ]
  },
  {
   "cell_type": "code",
   "execution_count": 76,
   "id": "10229756-868f-4e97-b1f7-a877f1e55306",
   "metadata": {},
   "outputs": [
    {
     "data": {
      "text/plain": [
       "3"
      ]
     },
     "execution_count": 76,
     "metadata": {},
     "output_type": "execute_result"
    }
   ],
   "source": [
    "np.argmin(matrix1)"
   ]
  },
  {
   "cell_type": "code",
   "execution_count": 77,
   "id": "0a4aed0a-7f8d-4b55-84cc-357f2bb1f5fc",
   "metadata": {},
   "outputs": [
    {
     "data": {
      "text/plain": [
       "11"
      ]
     },
     "execution_count": 77,
     "metadata": {},
     "output_type": "execute_result"
    }
   ],
   "source": [
    "np.max(matrix1)"
   ]
  },
  {
   "cell_type": "code",
   "execution_count": 78,
   "id": "2405736d-5ff3-4865-b95c-6ea01f0fd1c6",
   "metadata": {},
   "outputs": [
    {
     "data": {
      "text/plain": [
       "5"
      ]
     },
     "execution_count": 78,
     "metadata": {},
     "output_type": "execute_result"
    }
   ],
   "source": [
    "np.argmax(matrix1)"
   ]
  },
  {
   "cell_type": "code",
   "execution_count": 79,
   "id": "432eca9b-4630-4a65-a3b3-905ea0e1482f",
   "metadata": {},
   "outputs": [
    {
     "data": {
      "text/plain": [
       "array([[1.73205081, 1.73205081, 2.64575131],\n",
       "       [1.41421356, 2.        , 3.31662479],\n",
       "       [3.16227766, 2.64575131, 1.41421356]])"
      ]
     },
     "execution_count": 79,
     "metadata": {},
     "output_type": "execute_result"
    }
   ],
   "source": [
    "np.sqrt(matrix1)"
   ]
  },
  {
   "cell_type": "code",
   "execution_count": 80,
   "id": "d776073c-ce3a-4b74-80cc-73dd5a689f40",
   "metadata": {},
   "outputs": [
    {
     "data": {
      "text/plain": [
       "array([1.11286375e+36, 1.90734657e+21, 3.73324200e+32, 2.41549528e+07,\n",
       "       5.39922761e+44, 9.88903032e+42, 1.95729609e+11, 2.17820388e+47,\n",
       "       4.20121040e+25, 2.68811714e+43, 5.32048241e+11, 1.25236317e+29,\n",
       "       2.58131289e+20, 7.69478527e+23, 1.98626484e+44, 7.49841700e+33,\n",
       "       3.73324200e+32, 1.37338298e+32, 1.01480039e+33])"
      ]
     },
     "execution_count": 80,
     "metadata": {},
     "output_type": "execute_result"
    }
   ],
   "source": [
    "np.exp(arr)"
   ]
  },
  {
   "cell_type": "code",
   "execution_count": 81,
   "id": "227a7552-d2f2-4b57-9261-31b0c9c78494",
   "metadata": {},
   "outputs": [
    {
     "data": {
      "text/plain": [
       "array([ 0.96836446, -0.95375265, -0.38778164, -0.96139749,  0.62298863,\n",
       "       -0.99920683,  0.76255845,  0.81674261,  0.63673801, -0.50636564,\n",
       "        0.95637593, -0.85551998,  0.12357312, -0.99975517,  0.99482679,\n",
       "        0.51397846, -0.38778164, -0.98514626,  0.56610764])"
      ]
     },
     "execution_count": 81,
     "metadata": {},
     "output_type": "execute_result"
    }
   ],
   "source": [
    "np.sin(arr)"
   ]
  },
  {
   "cell_type": "code",
   "execution_count": 82,
   "id": "a93b0122-3cf4-4f2a-8b3a-93fcee251097",
   "metadata": {},
   "outputs": [
    {
     "data": {
      "text/plain": [
       "array([ 0.24954012,  0.30059254,  0.92175127, -0.27516334, -0.78223089,\n",
       "        0.03982088,  0.64691932, -0.57700218, -0.77108022,  0.86231887,\n",
       "       -0.29213881, -0.5177698 , -0.99233547,  0.02212676,  0.1015857 ,\n",
       "       -0.85780309,  0.92175127,  0.17171734,  0.82433133])"
      ]
     },
     "execution_count": 82,
     "metadata": {},
     "output_type": "execute_result"
    }
   ],
   "source": [
    "np.cos(arr)"
   ]
  },
  {
   "cell_type": "code",
   "execution_count": 83,
   "id": "92912876-c7eb-4515-aa23-67a4a7cb0596",
   "metadata": {},
   "outputs": [
    {
     "data": {
      "text/plain": [
       "array([ 1.        ,  1.28571429,  1.57142857,  1.85714286,  2.14285714,\n",
       "        2.42857143,  2.71428571,  3.        ,  3.28571429,  3.57142857,\n",
       "        3.85714286,  4.14285714,  4.42857143,  4.71428571,  5.        ,\n",
       "        5.28571429,  5.57142857,  5.85714286,  6.14285714,  6.42857143,\n",
       "        6.71428571,  7.        ,  7.28571429,  7.57142857,  7.85714286,\n",
       "        8.14285714,  8.42857143,  8.71428571,  9.        ,  9.28571429,\n",
       "        9.57142857,  9.85714286, 10.14285714, 10.42857143, 10.71428571,\n",
       "       11.        , 11.28571429, 11.57142857, 11.85714286, 12.14285714,\n",
       "       12.42857143, 12.71428571, 13.        , 13.28571429, 13.57142857,\n",
       "       13.85714286, 14.14285714, 14.42857143, 14.71428571, 15.        ])"
      ]
     },
     "execution_count": 83,
     "metadata": {},
     "output_type": "execute_result"
    }
   ],
   "source": [
    "np.linspace(1,15,50)"
   ]
  },
  {
   "cell_type": "code",
   "execution_count": 84,
   "id": "283d5af7-8a46-4334-abbc-950f295a2e84",
   "metadata": {},
   "outputs": [
    {
     "data": {
      "text/plain": [
       "array([ 1.,  2.,  3.,  4.,  5.,  6.,  7.,  8.,  9., 10.])"
      ]
     },
     "execution_count": 84,
     "metadata": {},
     "output_type": "execute_result"
    }
   ],
   "source": [
    "np.linspace(1,10,10)"
   ]
  },
  {
   "cell_type": "code",
   "execution_count": 85,
   "id": "1eceda1a-f89e-4468-b437-01079c992a3e",
   "metadata": {},
   "outputs": [
    {
     "data": {
      "text/plain": [
       "array([ True,  True,  True, False])"
      ]
     },
     "execution_count": 85,
     "metadata": {},
     "output_type": "execute_result"
    }
   ],
   "source": [
    "aarr4 = np.array([1,2,3,0], dtype = 'bool')\n",
    "aarr4"
   ]
  },
  {
   "cell_type": "code",
   "execution_count": 86,
   "id": "17678a5c-d6b2-417a-b88d-c77e21633f02",
   "metadata": {},
   "outputs": [
    {
     "name": "stdout",
     "output_type": "stream",
     "text": [
      "True\n",
      "True\n",
      "True\n",
      "False\n"
     ]
    }
   ],
   "source": [
    "for i in aarr4:\n",
    "    print(i)"
   ]
  },
  {
   "cell_type": "code",
   "execution_count": 87,
   "id": "b498fb60-2829-48b0-afd8-ae87d1b05751",
   "metadata": {},
   "outputs": [
    {
     "data": {
      "text/plain": [
       "49"
      ]
     },
     "execution_count": 87,
     "metadata": {},
     "output_type": "execute_result"
    }
   ],
   "source": [
    "np.sum(matrix1)"
   ]
  },
  {
   "cell_type": "code",
   "execution_count": 88,
   "id": "3dba7b8a-e96b-44ee-aefc-0213fbbe3a41",
   "metadata": {},
   "outputs": [
    {
     "data": {
      "text/plain": [
       "49"
      ]
     },
     "execution_count": 88,
     "metadata": {},
     "output_type": "execute_result"
    }
   ],
   "source": [
    "matrix1.sum()"
   ]
  },
  {
   "cell_type": "code",
   "execution_count": 89,
   "id": "564b062f-298d-409c-9c64-7c021fb31322",
   "metadata": {},
   "outputs": [
    {
     "data": {
      "text/plain": [
       "array([3, 2, 2])"
      ]
     },
     "execution_count": 89,
     "metadata": {},
     "output_type": "execute_result"
    }
   ],
   "source": [
    "np.min(matrix1,axis=1)"
   ]
  },
  {
   "cell_type": "code",
   "execution_count": 90,
   "id": "5da40c73-9840-47d0-84c4-86d3e98df88b",
   "metadata": {},
   "outputs": [
    {
     "data": {
      "text/plain": [
       "array([2, 3, 2])"
      ]
     },
     "execution_count": 90,
     "metadata": {},
     "output_type": "execute_result"
    }
   ],
   "source": [
    "np.min(matrix1,axis=0)"
   ]
  },
  {
   "cell_type": "code",
   "execution_count": 91,
   "id": "16778d13-a9c8-46b9-a790-9cf5828a9f27",
   "metadata": {},
   "outputs": [
    {
     "data": {
      "text/plain": [
       "array([ 3,  6, 13, 15, 19, 30, 40, 47, 49], dtype=int32)"
      ]
     },
     "execution_count": 91,
     "metadata": {},
     "output_type": "execute_result"
    }
   ],
   "source": [
    "np.cumsum(matrix1)"
   ]
  },
  {
   "cell_type": "code",
   "execution_count": 92,
   "id": "b8272edf-3799-42a0-a5ff-4599ee9eb12c",
   "metadata": {},
   "outputs": [
    {
     "data": {
      "text/plain": [
       "array([[ 3,  6, 13],\n",
       "       [ 2,  6, 17],\n",
       "       [10, 17, 19]], dtype=int32)"
      ]
     },
     "execution_count": 92,
     "metadata": {},
     "output_type": "execute_result"
    }
   ],
   "source": [
    "np.cumsum(matrix1, axis =1)"
   ]
  },
  {
   "cell_type": "code",
   "execution_count": 93,
   "id": "895133f6-66ff-4932-9339-39e3bbd0f223",
   "metadata": {},
   "outputs": [
    {
     "data": {
      "text/plain": [
       "776160"
      ]
     },
     "execution_count": 93,
     "metadata": {},
     "output_type": "execute_result"
    }
   ],
   "source": [
    "np.prod(matrix1)"
   ]
  },
  {
   "cell_type": "code",
   "execution_count": 94,
   "id": "255a975e-b811-4271-9cdf-a815d71601c2",
   "metadata": {},
   "outputs": [
    {
     "data": {
      "text/plain": [
       "array([ 63,  88, 140])"
      ]
     },
     "execution_count": 94,
     "metadata": {},
     "output_type": "execute_result"
    }
   ],
   "source": [
    "np.prod(matrix1, axis = 1)"
   ]
  },
  {
   "cell_type": "code",
   "execution_count": 95,
   "id": "b8156c25-ea5e-4962-b156-929b2959f66c",
   "metadata": {},
   "outputs": [],
   "source": [
    "np.random.shuffle(matrix1)"
   ]
  },
  {
   "cell_type": "code",
   "execution_count": 96,
   "id": "4a73299a-91a3-4011-9254-f7b8f29341c0",
   "metadata": {},
   "outputs": [
    {
     "data": {
      "text/plain": [
       "array([[ 2,  4, 11],\n",
       "       [10,  7,  2],\n",
       "       [ 3,  3,  7]])"
      ]
     },
     "execution_count": 96,
     "metadata": {},
     "output_type": "execute_result"
    }
   ],
   "source": [
    "matrix1"
   ]
  },
  {
   "cell_type": "code",
   "execution_count": 97,
   "id": "ab7ec011-7e29-4744-a817-f60ff5bb46f2",
   "metadata": {},
   "outputs": [
    {
     "data": {
      "text/plain": [
       "array([ 17,  26,  27,  47,  49,  55,  59,  67,  74,  75,  76,  78,  83,\n",
       "        99, 100, 102, 103, 109])"
      ]
     },
     "execution_count": 97,
     "metadata": {},
     "output_type": "execute_result"
    }
   ],
   "source": [
    "np.unique(arr)"
   ]
  },
  {
   "cell_type": "code",
   "execution_count": 98,
   "id": "a6d55705-6eef-45b3-837e-4da9e4dab88b",
   "metadata": {},
   "outputs": [
    {
     "data": {
      "text/plain": [
       "array([ 2,  3,  4,  7, 10, 11])"
      ]
     },
     "execution_count": 98,
     "metadata": {},
     "output_type": "execute_result"
    }
   ],
   "source": [
    "np.unique(matrix1)"
   ]
  },
  {
   "cell_type": "code",
   "execution_count": 99,
   "id": "bdea4fce-8afd-4e8f-8d76-615d3a29705b",
   "metadata": {},
   "outputs": [
    {
     "data": {
      "text/plain": [
       "6"
      ]
     },
     "execution_count": 99,
     "metadata": {},
     "output_type": "execute_result"
    }
   ],
   "source": [
    "np.unique(matrix1).size"
   ]
  },
  {
   "cell_type": "code",
   "execution_count": 100,
   "id": "2175e5be-b204-4ee5-ae9b-447ab5d185e1",
   "metadata": {},
   "outputs": [
    {
     "data": {
      "text/plain": [
       "(array([ 2,  3,  4,  7, 10, 11]),\n",
       " array([0, 6, 1, 4, 3, 2], dtype=int64),\n",
       " array([2, 2, 1, 2, 1, 1], dtype=int64))"
      ]
     },
     "execution_count": 100,
     "metadata": {},
     "output_type": "execute_result"
    }
   ],
   "source": [
    "np.unique(matrix1, return_index=True, return_counts= True)"
   ]
  },
  {
   "cell_type": "code",
   "execution_count": 101,
   "id": "2126b895-4327-47ca-abb4-51fb76c98147",
   "metadata": {},
   "outputs": [
    {
     "data": {
      "text/plain": [
       "array([[ 2,  4, 11,  5,  6, 14],\n",
       "       [10,  7,  2,  5,  5, 14],\n",
       "       [ 3,  3,  7,  8,  9,  5]])"
      ]
     },
     "execution_count": 101,
     "metadata": {},
     "output_type": "execute_result"
    }
   ],
   "source": [
    "np.hstack((matrix1,matrix2))"
   ]
  },
  {
   "cell_type": "code",
   "execution_count": 102,
   "id": "9e291eb7-991e-4a36-b8a4-c57440a9b43b",
   "metadata": {},
   "outputs": [
    {
     "data": {
      "text/plain": [
       "array([[ 2,  4, 11],\n",
       "       [10,  7,  2],\n",
       "       [ 3,  3,  7]])"
      ]
     },
     "execution_count": 102,
     "metadata": {},
     "output_type": "execute_result"
    }
   ],
   "source": [
    "matrix1"
   ]
  },
  {
   "cell_type": "code",
   "execution_count": 103,
   "id": "7f4bc14c-c0c7-492f-b01a-9612256378f7",
   "metadata": {},
   "outputs": [
    {
     "data": {
      "text/plain": [
       "array([[ 2,  4, 11],\n",
       "       [10,  7,  2],\n",
       "       [ 3,  3,  7],\n",
       "       [ 5,  6, 14],\n",
       "       [ 5,  5, 14],\n",
       "       [ 8,  9,  5]])"
      ]
     },
     "execution_count": 103,
     "metadata": {},
     "output_type": "execute_result"
    }
   ],
   "source": [
    "np.vstack((matrix1,matrix2))"
   ]
  },
  {
   "cell_type": "code",
   "execution_count": null,
   "id": "b5c2c5a1-2a5b-42f9-b857-7bd26a5b3213",
   "metadata": {},
   "outputs": [],
   "source": [
    "%timeit 1+2"
   ]
  },
  {
   "cell_type": "code",
   "execution_count": null,
   "id": "4fe1f48d-0cf7-4993-bf98-804e2feac20a",
   "metadata": {},
   "outputs": [],
   "source": [
    "%%timeit \n",
    "1+3\n",
    "2+4"
   ]
  },
  {
   "cell_type": "code",
   "execution_count": null,
   "id": "ffaa1b11-a42b-4ab9-8f8e-8ddf54b20330",
   "metadata": {},
   "outputs": [],
   "source": [
    "np.concatenate([matrix1,matrix2])"
   ]
  },
  {
   "cell_type": "code",
   "execution_count": null,
   "id": "8df8df5d-f58e-4bff-b760-fd6c518ac9a3",
   "metadata": {},
   "outputs": [],
   "source": [
    "a1,a2,a3 = np.split(matrix1,[2,4])"
   ]
  },
  {
   "cell_type": "code",
   "execution_count": null,
   "id": "64214dff-0527-4644-8b7c-f9b20bc9017f",
   "metadata": {},
   "outputs": [],
   "source": [
    "print(a1)"
   ]
  },
  {
   "cell_type": "code",
   "execution_count": null,
   "id": "4da3ddba-88b3-4529-8eb1-5a42c95a64b8",
   "metadata": {},
   "outputs": [],
   "source": [
    "a2"
   ]
  },
  {
   "cell_type": "code",
   "execution_count": null,
   "id": "b3241dfb-902a-41aa-aad0-c3f3a8e3396c",
   "metadata": {},
   "outputs": [],
   "source": [
    "a3"
   ]
  },
  {
   "cell_type": "code",
   "execution_count": null,
   "id": "dea94d33-8222-42ce-98c7-0a4b3e7d82e4",
   "metadata": {},
   "outputs": [],
   "source": [
    "a1,a2,a3,a4 = np.split(matrix1,[2,4,5])"
   ]
  },
  {
   "cell_type": "code",
   "execution_count": null,
   "id": "b4fe924d-7d25-41f9-a500-19c5db675e69",
   "metadata": {},
   "outputs": [],
   "source": [
    "print(a1)\n",
    "print(a2)\n",
    "print(a3)\n",
    "print(a4)"
   ]
  },
  {
   "cell_type": "code",
   "execution_count": null,
   "id": "197cfb57-568b-4d79-88a8-0a998f6a86b1",
   "metadata": {},
   "outputs": [],
   "source": [
    "#hsplit vsplit dsplit\n",
    "#hconcatenate vconcatenate dconcatenate "
   ]
  }
 ],
 "metadata": {
  "kernelspec": {
   "display_name": "Python 3.10.4 64-bit",
   "language": "python",
   "name": "python3"
  },
  "language_info": {
   "codemirror_mode": {
    "name": "ipython",
    "version": 3
   },
   "file_extension": ".py",
   "mimetype": "text/x-python",
   "name": "python",
   "nbconvert_exporter": "python",
   "pygments_lexer": "ipython3",
   "version": "3.10.4"
  },
  "vscode": {
   "interpreter": {
    "hash": "da1c26d51b37919d2f532d3ec3ba612e48e2a53c5a6a19563119fb07e68673b8"
   }
  }
 },
 "nbformat": 4,
 "nbformat_minor": 5
}
