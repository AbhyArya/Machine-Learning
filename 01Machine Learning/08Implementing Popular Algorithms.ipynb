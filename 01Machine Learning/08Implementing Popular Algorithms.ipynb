{
 "cells": [
  {
   "cell_type": "code",
   "execution_count": 1,
   "id": "1bbdc965",
   "metadata": {},
   "outputs": [],
   "source": [
    "import numpy as np\n",
    "import matplotlib.pyplot as plt"
   ]
  },
  {
   "cell_type": "markdown",
   "id": "e517284a",
   "metadata": {},
   "source": [
    "# Implementing Linear Regression"
   ]
  },
  {
   "cell_type": "markdown",
   "id": "26d028a8",
   "metadata": {},
   "source": [
    "### Using Gradient Descent"
   ]
  },
  {
   "cell_type": "code",
   "execution_count": 2,
   "id": "b5f61015",
   "metadata": {},
   "outputs": [],
   "source": [
    "def model(X, Y, learning_rate, iteration):\n",
    "    m = Y.size\n",
    "    X = np.c_[np.ones((100, 1)), X]\n",
    "    theta = np.zeros((2, 1))\n",
    "    cost_list = []\n",
    "    for i in range(iteration):\n",
    "        y_pred = np.dot(X, theta)\n",
    "        \n",
    "        # Cost or Mean-Sq-Error\n",
    "        cost = (1/(2*m))*np.sum(np.square(y_pred - Y))\n",
    "        \n",
    "        # Gradient Descent\n",
    "        d_theta = (1/m)*np.dot(X.T, y_pred - Y)\n",
    "        theta = theta - learning_rate*d_theta\n",
    "        cost_list.append(cost)\n",
    "\n",
    "    return theta, cost_list"
   ]
  },
  {
   "cell_type": "markdown",
   "id": "aba1c3ea",
   "metadata": {},
   "source": [
    "### Using Normal Equation"
   ]
  },
  {
   "cell_type": "code",
   "execution_count": 3,
   "id": "f37ae161",
   "metadata": {},
   "outputs": [],
   "source": [
    "def get_best_param(X, y):      \n",
    "    X_b = np.c_[np.ones((100, 1)), X]  # add x0 = 1 to each instance\n",
    "    theta_best = np.linalg.inv(X_b.T.dot(X_b)).dot(X_b.T).dot(y) # normal equation formula \n",
    "    return theta_best"
   ]
  },
  {
   "cell_type": "markdown",
   "id": "fb48b201",
   "metadata": {},
   "source": [
    "### Generating data and predicting using above algorithms"
   ]
  },
  {
   "cell_type": "code",
   "execution_count": 9,
   "id": "64f9101d",
   "metadata": {},
   "outputs": [],
   "source": [
    "def generate_data():\n",
    "    X_train = 2 * np.random.rand(100, 1)  \n",
    "    Y_train = 4 + 3 * X_train + np.random.randn(100, 1) \n",
    "    return X_train,Y_train\n",
    "\n",
    "def predict(X,theta): \n",
    "    return X.dot(theta)\n",
    "\n",
    "X_train, Y_train = generate_data()"
   ]
  },
  {
   "cell_type": "code",
   "execution_count": 33,
   "id": "c98602c9",
   "metadata": {
    "scrolled": true
   },
   "outputs": [
    {
     "name": "stdout",
     "output_type": "stream",
     "text": [
      "[[3.35153769]\n",
      " [3.4699534 ]]\n"
     ]
    },
    {
     "data": {
      "image/png": "[encoded data removed]",
      "text/plain": [
       "<Figure size 432x288 with 1 Axes>"
      ]
     },
     "metadata": {
      "needs_background": "light"
     },
     "output_type": "display_data"
    }
   ],
   "source": [
    "plt.scatter(X_train,Y_train)\n",
    "theta_norm = get_best_param(X_train,Y_train)\n",
    "print(theta_norm)\n",
    "X_test = np.array([[1,0],[1,2]]) \n",
    "Y_hat = predict(X_test,theta_norm)\n",
    "\n",
    "plt.plot(X_test[:,1], Y_hat, 'r',label = \"Normal Form\")\n",
    "\n",
    "theta_grad, cost_list = model(X_train,Y_train,0.05,50) \n",
    "Y_hat = predict(X_test,theta_grad)\n",
    "\n",
    "plt.plot(X_test[:,1], Y_hat, 'g',label=\"Gradient\")\n",
    "\n",
    "plt.legend()\n",
    "plt.show()"
   ]
  },
  {
   "cell_type": "code",
   "execution_count": 34,
   "id": "4d31e499",
   "metadata": {
    "scrolled": true
   },
   "outputs": [
    {
     "data": {
      "text/plain": [
       "[]"
      ]
     },
     "execution_count": 34,
     "metadata": {},
     "output_type": "execute_result"
    },
    {
     "data": {
      "image/png": "[encoded data removed]",
      "text/plain": [
       "<Figure size 432x288 with 1 Axes>"
      ]
     },
     "metadata": {
      "needs_background": "light"
     },
     "output_type": "display_data"
    }
   ],
   "source": [
    "plt.plot([i for i in range(len(cost_list))],cost_list)\n",
    "plt.plot()"
   ]
  },
  {
   "cell_type": "code",
   "execution_count": null,
   "id": "23fd790a",
   "metadata": {},
   "outputs": [],
   "source": []
  }
 ],
 "metadata": {
  "kernelspec": {
   "display_name": "Python 3 (ipykernel)",
   "language": "python",
   "name": "python3"
  },
  "language_info": {
   "codemirror_mode": {
    "name": "ipython",
    "version": 3
   },
   "file_extension": ".py",
   "mimetype": "text/x-python",
   "name": "python",
   "nbconvert_exporter": "python",
   "pygments_lexer": "ipython3",
   "version": "3.9.7"
  }
 },
 "nbformat": 4,
 "nbformat_minor": 5
}
