{
 "cells": [
  {
   "cell_type": "code",
   "execution_count": 1,
   "id": "14e1788b",
   "metadata": {},
   "outputs": [],
   "source": [
    "import numpy as np\n",
    "import math"
   ]
  },
  {
   "cell_type": "markdown",
   "id": "b01fc914",
   "metadata": {},
   "source": [
    "# Creating a 1D numpy array  - From python list"
   ]
  },
  {
   "cell_type": "code",
   "execution_count": 2,
   "id": "19beda67",
   "metadata": {},
   "outputs": [
    {
     "name": "stdout",
     "output_type": "stream",
     "text": [
      "[1, 2, 3, 4, 5, 6, 7, 8, 9, 10]\n",
      "[ 1  2  3  4  5  6  7  8  9 10]\n",
      "[ 1  2  3  4  5  6  7  8  9 10]\n"
     ]
    }
   ],
   "source": [
    "python_list = [_ for _ in range(1,11)]\n",
    "print(python_list)\n",
    "np_array = np.array(python_list)\n",
    "print(np_array)\n",
    "np_array = np.asarray(python_list)\n",
    "print(np_array)"
   ]
  },
  {
   "cell_type": "markdown",
   "id": "f2c7a098",
   "metadata": {},
   "source": [
    "# Creating a 2D numpy array  - From python list"
   ]
  },
  {
   "cell_type": "code",
   "execution_count": 3,
   "id": "229cb358",
   "metadata": {
    "scrolled": true
   },
   "outputs": [
    {
     "name": "stdout",
     "output_type": "stream",
     "text": [
      "[[23 24 25 26 27 28 29]\n",
      " [23 24 25 26 27 28 29]\n",
      " [23 24 25 26 27 28 29]\n",
      " [23 24 25 26 27 28 29]\n",
      " [23 24 25 26 27 28 29]\n",
      " [23 24 25 26 27 28 29]\n",
      " [23 24 25 26 27 28 29]\n",
      " [23 24 25 26 27 28 29]\n",
      " [23 24 25 26 27 28 29]\n",
      " [23 24 25 26 27 28 29]]\n",
      "(10, 7)\n"
     ]
    }
   ],
   "source": [
    "python_list = [[_ for _ in range(23,30)] for _ in range(1,11)]  \n",
    "np_array = np.array(python_list)# we can also use dtype paramenter to change the data type\n",
    "print(np_array)\n",
    "print(np.shape(np_array))"
   ]
  },
  {
   "cell_type": "markdown",
   "id": "a37a8d45",
   "metadata": {},
   "source": [
    "# Converting a array data type into another if compatible"
   ]
  },
  {
   "cell_type": "code",
   "execution_count": 4,
   "id": "3a6c8b3c",
   "metadata": {},
   "outputs": [
    {
     "name": "stdout",
     "output_type": "stream",
     "text": [
      "[ True  True  True  True  True  True False  True False False]\n"
     ]
    }
   ],
   "source": [
    "np_array = np.array([1,4,5,7,23,6,0,-1,0,0])\n",
    "np_array = np_array.astype(bool)\n",
    "print(np_array)"
   ]
  },
  {
   "cell_type": "markdown",
   "id": "90e20887",
   "metadata": {},
   "source": [
    "# Creating a 1D numpy array - Using Arange Function"
   ]
  },
  {
   "cell_type": "code",
   "execution_count": 5,
   "id": "a85c8c18",
   "metadata": {},
   "outputs": [
    {
     "name": "stdout",
     "output_type": "stream",
     "text": [
      "[0 1 2 3 4 5 6 7 8 9]\n"
     ]
    }
   ],
   "source": [
    "np_array = np.arange(10)\n",
    "print(np_array)"
   ]
  },
  {
   "cell_type": "markdown",
   "id": "e7e4a0f1",
   "metadata": {},
   "source": [
    "# Creating a 2D numpy array - Using Arange Function"
   ]
  },
  {
   "cell_type": "code",
   "execution_count": 6,
   "id": "ab91e4a0",
   "metadata": {},
   "outputs": [
    {
     "name": "stdout",
     "output_type": "stream",
     "text": [
      "[[ 1  2  3  4  5]\n",
      " [ 6  7  8  9 10]]\n",
      "[[ 1  2  3  4  5]\n",
      " [ 6  7  8  9 10]]\n",
      "[[ 1.   1.5  2.   2.5  3.   3.5  4.   4.5  5.   5.5]\n",
      " [ 6.   6.5  7.   7.5  8.   8.5  9.   9.5 10.  10.5]]\n"
     ]
    }
   ],
   "source": [
    "np_array = np.arange(1,11).reshape(2,-1)\n",
    "print(np_array)\n",
    "np_array = np.arange(1,11).reshape(2,5)\n",
    "print(np_array)\n",
    "np_array = np.arange(1,11,.5).reshape(2,-1)\n",
    "print(np_array)"
   ]
  },
  {
   "cell_type": "markdown",
   "id": "606f6394",
   "metadata": {},
   "source": [
    "# Creating matrix - Using Eye Function"
   ]
  },
  {
   "cell_type": "code",
   "execution_count": 7,
   "id": "15f70db8",
   "metadata": {},
   "outputs": [
    {
     "name": "stdout",
     "output_type": "stream",
     "text": [
      "[[1. 0. 0. 0. 0.]\n",
      " [0. 1. 0. 0. 0.]\n",
      " [0. 0. 1. 0. 0.]\n",
      " [0. 0. 0. 1. 0.]\n",
      " [0. 0. 0. 0. 1.]]\n",
      "[[1. 0. 0. 0. 0.]\n",
      " [0. 1. 0. 0. 0.]]\n"
     ]
    }
   ],
   "source": [
    "np_eye_matrix = np.eye(5) \n",
    "print(np_eye_matrix)\n",
    "np_eye_matrix = np.eye(2,5)\n",
    "print(np_eye_matrix)"
   ]
  },
  {
   "cell_type": "markdown",
   "id": "d3beb4d6",
   "metadata": {},
   "source": [
    "# Creating matrix - Using diag Function"
   ]
  },
  {
   "cell_type": "code",
   "execution_count": 8,
   "id": "c1d7c725",
   "metadata": {},
   "outputs": [
    {
     "name": "stdout",
     "output_type": "stream",
     "text": [
      "[[1 0 0 0 0]\n",
      " [0 4 0 0 0]\n",
      " [0 0 6 0 0]\n",
      " [0 0 0 4 0]\n",
      " [0 0 0 0 2]]\n",
      "[0 1 2 4 6]\n"
     ]
    }
   ],
   "source": [
    "np_diag_matrix = np.diag([1,4,6,4,2])\n",
    "print(np_diag_matrix)\n",
    "print(np.unique(np_diag_matrix))"
   ]
  },
  {
   "cell_type": "code",
   "execution_count": 9,
   "id": "3e9177af",
   "metadata": {},
   "outputs": [
    {
     "data": {
      "text/plain": [
       "array([1, 4, 6, 4, 2])"
      ]
     },
     "execution_count": 9,
     "metadata": {},
     "output_type": "execute_result"
    }
   ],
   "source": [
    "np.diag(np_diag_matrix)"
   ]
  },
  {
   "cell_type": "markdown",
   "id": "c220f1cb",
   "metadata": {},
   "source": [
    "# Creating 1D array - Using linespace function"
   ]
  },
  {
   "cell_type": "code",
   "execution_count": 10,
   "id": "0e5d4fbe",
   "metadata": {
    "scrolled": true
   },
   "outputs": [
    {
     "name": "stdout",
     "output_type": "stream",
     "text": [
      "[1 1 1 2 2 3 3 4 4 5]\n"
     ]
    }
   ],
   "source": [
    "np_linespace_array = np.linspace(1,5,10, dtype = int);\n",
    "print(np_linespace_array)"
   ]
  },
  {
   "cell_type": "markdown",
   "id": "84e6d257",
   "metadata": {},
   "source": [
    "# Creating 2D array - using linspace function"
   ]
  },
  {
   "cell_type": "code",
   "execution_count": 11,
   "id": "84fbdbfe",
   "metadata": {},
   "outputs": [
    {
     "name": "stdout",
     "output_type": "stream",
     "text": [
      "[[1 1 1 2 2]\n",
      " [3 3 4 4 5]]\n"
     ]
    }
   ],
   "source": [
    "np_linespace_array = np.linspace(1,5,10, dtype = int).reshape(2,-1);\n",
    "print(np_linespace_array)"
   ]
  },
  {
   "cell_type": "markdown",
   "id": "75f5571c",
   "metadata": {},
   "source": [
    "# Creating general ndarray using ones,zeros and full function"
   ]
  },
  {
   "cell_type": "code",
   "execution_count": 12,
   "id": "7eac3077",
   "metadata": {
    "scrolled": false
   },
   "outputs": [
    {
     "name": "stdout",
     "output_type": "stream",
     "text": [
      "Zeros Start\n",
      "[0. 0. 0. 0. 0.]\n",
      "[[0. 0. 0. 0. 0. 0.]\n",
      " [0. 0. 0. 0. 0. 0.]]\n",
      "\n",
      "\n",
      "Ones Start\n",
      "[1. 1. 1. 1. 1.]\n",
      "[[1. 1. 1. 1. 1. 1.]\n",
      " [1. 1. 1. 1. 1. 1.]]\n",
      "\n",
      "\n",
      "Full Start\n",
      "[5 5 5 5 5]\n",
      "[[5 5 5 5 5 5]\n",
      " [5 5 5 5 5 5]]\n"
     ]
    }
   ],
   "source": [
    "print(\"Zeros Start\")\n",
    "np_zero_array = np.zeros(5)\n",
    "print(np_zero_array)\n",
    "\n",
    "np_zero_array = np.zeros((2,6)) # 2D array\n",
    "print(np_zero_array)\n",
    "\n",
    "print(\"\\n\\nOnes Start\")\n",
    "\n",
    "np_one_array = np.ones(5)\n",
    "print(np_one_array)\n",
    "\n",
    "np_one_array = np.ones((2,6,)) # 2D array\n",
    "print(np_one_array)\n",
    "\n",
    "print(\"\\n\\nFull Start\")\n",
    "np_one_array = np.full(5,5)\n",
    "print(np_one_array)\n",
    "\n",
    "np_one_array = np.full((2,6,),5) # 2D array\n",
    "print(np_one_array)"
   ]
  },
  {
   "cell_type": "code",
   "execution_count": 13,
   "id": "61d9c0b2",
   "metadata": {
    "scrolled": false
   },
   "outputs": [
    {
     "name": "stdout",
     "output_type": "stream",
     "text": [
      "[[[0 0 0]\n",
      "  [1 1 1]\n",
      "  [2 2 2]\n",
      "  [3 3 3]\n",
      "  [4 4 4]]\n",
      "\n",
      " [[0 1 2]\n",
      "  [0 1 2]\n",
      "  [0 1 2]\n",
      "  [0 1 2]\n",
      "  [0 1 2]]]\n"
     ]
    }
   ],
   "source": [
    "np_indices_array = np.indices((5,3))\n",
    "print(np_indices_array)"
   ]
  },
  {
   "cell_type": "markdown",
   "id": "50f2e8e3",
   "metadata": {},
   "source": [
    "# ndmin, ndim and dtype"
   ]
  },
  {
   "cell_type": "code",
   "execution_count": 14,
   "id": "4c0033ae",
   "metadata": {},
   "outputs": [
    {
     "name": "stdout",
     "output_type": "stream",
     "text": [
      "[[[1 2 3 4 5 6 7 8 9]]]\n",
      "3\n",
      "int32\n"
     ]
    }
   ],
   "source": [
    "np_array = np.array([1,2,3,4,5,6,7,8,9], ndmin = 3)\n",
    "print(np_array)\n",
    "print(np_array.ndim)\n",
    "print(np_array.dtype)"
   ]
  },
  {
   "cell_type": "markdown",
   "id": "8f072e4c",
   "metadata": {},
   "source": [
    "# Indexing in numpy array\n"
   ]
  },
  {
   "cell_type": "code",
   "execution_count": 15,
   "id": "911e423d",
   "metadata": {},
   "outputs": [
    {
     "name": "stdout",
     "output_type": "stream",
     "text": [
      "[[0 1 2 3 4]\n",
      " [5 6 7 8 9]]\n",
      "index\n",
      "[5 6 7 8 9]\n",
      "8\n",
      "8\n",
      "[0 6]\n"
     ]
    }
   ],
   "source": [
    "np_index_array = np.arange(10).reshape(2,-1)\n",
    "print(np_index_array)\n",
    "print(\"index\")\n",
    "print(np_index_array[1])\n",
    "print(np_index_array[1][3])\n",
    "print(np_index_array[1,3])\n",
    "print(np_index_array[[0,1],[0,1]])"
   ]
  },
  {
   "cell_type": "markdown",
   "id": "2a0abe34",
   "metadata": {},
   "source": [
    "# Slicing in numpy 1D array"
   ]
  },
  {
   "cell_type": "code",
   "execution_count": 16,
   "id": "a7e1fb9b",
   "metadata": {},
   "outputs": [
    {
     "name": "stdout",
     "output_type": "stream",
     "text": [
      "[1 3 5]\n",
      "[9 8 7 6 5 4 3 2 1 0]\n",
      "[8 9]\n"
     ]
    }
   ],
   "source": [
    "np_slice_array = np.array([0, 1, 2, 3, 4, 5, 6, 7, 8, 9])\n",
    "print(np_slice_array[1:7:2])\n",
    "\n",
    "print(np_slice_array[-1::-1])\n",
    "print(np_slice_array[-2:10])"
   ]
  },
  {
   "cell_type": "markdown",
   "id": "d1cd40fd",
   "metadata": {},
   "source": [
    "# Slicing in numpy 2D array"
   ]
  },
  {
   "cell_type": "code",
   "execution_count": 17,
   "id": "7e7fd51a",
   "metadata": {},
   "outputs": [
    {
     "name": "stdout",
     "output_type": "stream",
     "text": [
      "[[ 1  2  3  4  5]\n",
      " [ 6  7  8  9 10]]\n",
      "[[3 4]\n",
      " [8 9]]\n"
     ]
    }
   ],
   "source": [
    "np_slice_array = np.arange(1,11).reshape(2,-1)\n",
    "print(np_slice_array)\n",
    "print(np_slice_array[:,2:4])"
   ]
  },
  {
   "cell_type": "markdown",
   "id": "6031ef07",
   "metadata": {},
   "source": [
    "# Joining numpy Array using concatenate or stack Function"
   ]
  },
  {
   "cell_type": "code",
   "execution_count": 18,
   "id": "ed8b3bb1",
   "metadata": {
    "scrolled": true
   },
   "outputs": [
    {
     "name": "stdout",
     "output_type": "stream",
     "text": [
      "[[ 1  2  3  4  5]\n",
      " [ 6  7  8  9 10]\n",
      " [11 12 13 14 15]\n",
      " [16 17 18 19 20]]\n",
      "[[ 1  2  3  4  5 11 12 13 14 15]\n",
      " [ 6  7  8  9 10 16 17 18 19 20]]\n"
     ]
    }
   ],
   "source": [
    "np_array1 = np.arange(1,11).reshape(2,-1);\n",
    "np_array2 = np.arange(11,21).reshape(2,-1);\n",
    "np_concanated_array = np.concatenate((np_array1, np_array2)); # colume wise\n",
    "print(np_concanated_array)\n",
    "np_concanated_array = np.concatenate((np_array1, np_array2), axis = 1); # row wise\n",
    "print(np_concanated_array)"
   ]
  },
  {
   "cell_type": "code",
   "execution_count": 19,
   "id": "9c15a8e1",
   "metadata": {
    "scrolled": true
   },
   "outputs": [
    {
     "name": "stdout",
     "output_type": "stream",
     "text": [
      "[[[ 1  2  3  4  5]\n",
      "  [ 6  7  8  9 10]]\n",
      "\n",
      " [[11 12 13 14 15]\n",
      "  [16 17 18 19 20]]]\n",
      "\n",
      "\n",
      "\n",
      "[[[ 1  2  3  4  5]\n",
      "  [11 12 13 14 15]]\n",
      "\n",
      " [[ 6  7  8  9 10]\n",
      "  [16 17 18 19 20]]]\n",
      "\n",
      "\n",
      "\n",
      "[[ 1  2  3  4  5 11 12 13 14 15]\n",
      " [ 6  7  8  9 10 16 17 18 19 20]]\n",
      "\n",
      "\n",
      "\n",
      "[[ 1  2  3  4  5]\n",
      " [ 6  7  8  9 10]\n",
      " [11 12 13 14 15]\n",
      " [16 17 18 19 20]]\n",
      "\n",
      "\n",
      "\n",
      "[[[ 1 11]\n",
      "  [ 2 12]\n",
      "  [ 3 13]\n",
      "  [ 4 14]\n",
      "  [ 5 15]]\n",
      "\n",
      " [[ 6 16]\n",
      "  [ 7 17]\n",
      "  [ 8 18]\n",
      "  [ 9 19]\n",
      "  [10 20]]]\n"
     ]
    }
   ],
   "source": [
    "np_array1 = np.arange(1,11).reshape(2,-1);\n",
    "np_array2 = np.arange(11,21).reshape(2,-1);\n",
    "np_concanated_array = np.stack((np_array1, np_array2));\n",
    "print(np_concanated_array)\n",
    "print(\"\\n\\n\")\n",
    "np_concanated_array = np.stack((np_array1, np_array2), axis = 1);\n",
    "print(np_concanated_array)\n",
    "print(\"\\n\\n\")\n",
    "np_concanated_array = np.hstack((np_array1, np_array2));\n",
    "print(np_concanated_array)\n",
    "print(\"\\n\\n\")\n",
    "np_concanated_array = np.vstack((np_array1, np_array2));\n",
    "print(np_concanated_array)\n",
    "print(\"\\n\\n\")\n",
    "np_concanated_array = np.dstack((np_array1, np_array2));\n",
    "print(np_concanated_array)"
   ]
  },
  {
   "cell_type": "markdown",
   "id": "7836365e",
   "metadata": {},
   "source": [
    "# Splitting a numpy array"
   ]
  },
  {
   "cell_type": "code",
   "execution_count": 20,
   "id": "d691042e",
   "metadata": {
    "scrolled": false
   },
   "outputs": [
    {
     "name": "stdout",
     "output_type": "stream",
     "text": [
      "[[0 1 2 3 4]\n",
      " [5 6 7 8 9]]\n",
      "[array([[0, 1, 2, 3, 4]]), array([[5, 6, 7, 8, 9]])]\n"
     ]
    }
   ],
   "source": [
    "np_split_array = np.arange(10).reshape(2,-1)\n",
    "print(np_split_array)\n",
    "np_split_array = np.array_split(np_split_array,2)\n",
    "print(np_split_array)\n",
    "\n",
    "# There is also functions to splite like vsplit,hsplit etc."
   ]
  },
  {
   "cell_type": "markdown",
   "id": "b38fd8a7",
   "metadata": {},
   "source": [
    "# Searching & Sorting in numpy array"
   ]
  },
  {
   "cell_type": "code",
   "execution_count": 21,
   "id": "3ce38a88",
   "metadata": {
    "scrolled": false
   },
   "outputs": [
    {
     "name": "stdout",
     "output_type": "stream",
     "text": [
      "(array([3, 4, 5], dtype=int64),)\n",
      "1\n",
      "[1 3 7]\n",
      "2\n"
     ]
    }
   ],
   "source": [
    "np_search_array = np.array([1, 2, 3, 4, 6, 4, 4,5])\n",
    "np_search_array = np.sort(np_search_array)\n",
    "print(np.where(np_search_array == 4))\n",
    "print(np.searchsorted(np_search_array, 2))\n",
    "print(np.searchsorted(np_search_array, [2, 4, 6]))\n",
    "print(np.searchsorted(np_search_array, 2,side='right'))"
   ]
  },
  {
   "cell_type": "markdown",
   "id": "7c5d1943",
   "metadata": {},
   "source": [
    "# Filter in numpy array"
   ]
  },
  {
   "cell_type": "code",
   "execution_count": 22,
   "id": "5a78aac6",
   "metadata": {},
   "outputs": [
    {
     "name": "stdout",
     "output_type": "stream",
     "text": [
      "[4 6 4 4 5]\n"
     ]
    }
   ],
   "source": [
    "np_filter_array = np.array([1, 2, 3, 4, 6, 4, 4,5])\n",
    "filter_arr = np_filter_array > 3\n",
    "np_filter_array = np_filter_array[filter_arr]\n",
    "print(np_filter_array)"
   ]
  },
  {
   "cell_type": "markdown",
   "id": "0df0a31b",
   "metadata": {},
   "source": [
    "# Swapaxes Function in array"
   ]
  },
  {
   "cell_type": "code",
   "execution_count": 23,
   "id": "036c337c",
   "metadata": {},
   "outputs": [
    {
     "name": "stdout",
     "output_type": "stream",
     "text": [
      "[[[ 0  1  2]\n",
      "  [ 3  4  5]]\n",
      "\n",
      " [[ 6  7  8]\n",
      "  [ 9 10 11]]\n",
      "\n",
      " [[12 13 14]\n",
      "  [15 16 17]]]\n",
      "\n",
      "\n",
      "After swap \n",
      "\n",
      "\n",
      "[[[ 0  3]\n",
      "  [ 1  4]\n",
      "  [ 2  5]]\n",
      "\n",
      " [[ 6  9]\n",
      "  [ 7 10]\n",
      "  [ 8 11]]\n",
      "\n",
      " [[12 15]\n",
      "  [13 16]\n",
      "  [14 17]]]\n"
     ]
    }
   ],
   "source": [
    "np_swapaxes_array = np.arange(18).reshape(3,2,3)\n",
    "print(np_swapaxes_array)\n",
    "print(\"\\n\\nAfter swap \\n\\n\")\n",
    "np_swapaxes_array = np.swapaxes(np_swapaxes_array,1,2)\n",
    "print(np_swapaxes_array)"
   ]
  },
  {
   "cell_type": "markdown",
   "id": "08fc4b5e",
   "metadata": {},
   "source": [
    "# max/min function in numpy"
   ]
  },
  {
   "cell_type": "code",
   "execution_count": 24,
   "id": "ba0f4170",
   "metadata": {},
   "outputs": [
    {
     "name": "stdout",
     "output_type": "stream",
     "text": [
      "[[0 1 2]\n",
      " [3 4 5]\n",
      " [6 7 8]]\n",
      "8\n",
      "[6 7 8]\n",
      "[2 5 8]\n",
      "\n",
      "\n",
      "\n",
      "[[0 1 2]\n",
      " [3 4 5]\n",
      " [6 7 8]]\n",
      "0\n",
      "[0 1 2]\n",
      "[0 3 6]\n",
      "\n",
      "\n",
      "\n",
      "8\n"
     ]
    }
   ],
   "source": [
    "np_max_array = np.arange(9).reshape(3,-1)\n",
    "print(np_max_array)\n",
    "print(np_max_array.max())\n",
    "print(np_max_array.max(axis = 0))\n",
    "print(np_max_array.max(axis = 1))\n",
    "\n",
    "print(\"\\n\\n\")\n",
    "np_min_array = np.arange(9).reshape(3,-1)\n",
    "print(np_min_array)\n",
    "print(np_min_array.min())\n",
    "print(np_min_array.min(axis = 0))\n",
    "print(np_min_array.min(axis = 1))\n",
    "\n",
    "# Other function like amax, amin can use same as above\n",
    "\n",
    "print(\"\\n\\n\")\n",
    "print(np.ptp(np_max_array))"
   ]
  },
  {
   "cell_type": "markdown",
   "id": "e49e103b",
   "metadata": {},
   "source": [
    "# Random Number in numpy"
   ]
  },
  {
   "cell_type": "code",
   "execution_count": 25,
   "id": "c7b4f602",
   "metadata": {},
   "outputs": [
    {
     "name": "stdout",
     "output_type": "stream",
     "text": [
      "4\n",
      "[32 63  2  9 16 90 68 65 38 19]\n",
      "[[59 59 14 71 54]\n",
      " [72 66 83 23 23]\n",
      " [83 64 50 19 99]\n",
      " [27 96 25 46 35]\n",
      " [73 97 94 18  2]\n",
      " [41 32 53 66 31]\n",
      " [59  9 33 17 47]\n",
      " [10 70 27 99 32]\n",
      " [78 99  1 19 51]\n",
      " [54 64 72 55 68]]\n",
      "\n",
      "\n",
      "\n",
      "0.32397098497497423\n",
      "[0.45311125 0.55461704 0.0320169  0.48288402 0.39469763 0.43598232\n",
      " 0.89671502 0.69048104 0.53342643 0.48815793]\n",
      "[[0.30299741 0.49253064 0.75864029 0.42005537]\n",
      " [0.19443449 0.03487401 0.29064557 0.93545031]]\n",
      "\n",
      "\n",
      "\n",
      "63\n",
      "[7 7 7 7 7 3 7 5 7 5 5 7 5 5 5 7 7 7 7 7 7 7 3 7 7 7 5 7 5 7 7 7 5 3 7 5 5\n",
      " 3 7 7 5 5 7 5 5 7 7 5 7 7 5 7 7 7 7 7 7 7 5 5 7 5 7 5 7 7 7 7 7 7 5 7 5 7\n",
      " 7 7 5 5 5 5 7 3 5 7 7 7 5 7 7 5 5 5 7 5 5 5 7 5 7 7]\n"
     ]
    }
   ],
   "source": [
    "np_random_int = np.random.randint(100)\n",
    "print(np_random_int)\n",
    "np_random_array = np.random.randint(100,size=(10))\n",
    "print(np_random_array)\n",
    "np_random_array = np.random.randint(100,size=(10,5))\n",
    "print(np_random_array)\n",
    "\n",
    "print(\"\\n\\n\")\n",
    "\n",
    "np_random_int = np.random.rand()\n",
    "print(np_random_int)\n",
    "np_random_array = np.random.rand(10)\n",
    "print(np_random_array)\n",
    "np_random_array = np.random.rand(2,4)\n",
    "print(np_random_array)\n",
    "\n",
    "print(\"\\n\\n\")\n",
    "\n",
    "np_random_int = np.random.choice([i for i in range(100)])\n",
    "print(np_random_int)\n",
    "np_random_array = np.random.choice([3, 5, 7, 9], p=[0.1, 0.3, 0.6, 0.0], size=(100))\n",
    "print(np_random_array)"
   ]
  },
  {
   "cell_type": "markdown",
   "id": "356b85fd",
   "metadata": {},
   "source": [
    "# Shuffle & Permutation"
   ]
  },
  {
   "cell_type": "code",
   "execution_count": 26,
   "id": "f9245239",
   "metadata": {},
   "outputs": [
    {
     "name": "stdout",
     "output_type": "stream",
     "text": [
      "[0 1 2 3 4 5 6 7 8 9]\n",
      "[8 0 4 9 2 5 3 7 1 6]\n",
      "[5 0 1 6 7 2 3 4 9 8]\n"
     ]
    }
   ],
   "source": [
    "np_SP_array = np.arange(10);\n",
    "print(np_SP_array)\n",
    "np.random.shuffle(np_SP_array)\n",
    "print(np_SP_array)\n",
    "np_SP_array = np.random.permutation(np_SP_array)\n",
    "print(np_SP_array)"
   ]
  },
  {
   "cell_type": "markdown",
   "id": "b3845659",
   "metadata": {},
   "source": [
    "# Normal (Gaussian) Distribution"
   ]
  },
  {
   "cell_type": "code",
   "execution_count": 27,
   "id": "8dba34b2",
   "metadata": {},
   "outputs": [
    {
     "name": "stdout",
     "output_type": "stream",
     "text": [
      "[[5.16333936 4.95795074 4.31337201]\n",
      " [5.39334768 5.73115262 3.44152597]\n",
      " [4.37396757 6.00103975 5.43984752]]\n",
      "Mean : 4.979504801931887\n"
     ]
    }
   ],
   "source": [
    "np_random_array = np.random.normal(loc = 5, scale = 1, size = (3,3))\n",
    "print(np_random_array)\n",
    "\n",
    "print(\"Mean :\", np.sum(np_random_array)/np.size(np_random_array))"
   ]
  },
  {
   "cell_type": "markdown",
   "id": "c0c72f93",
   "metadata": {},
   "source": [
    "# Binomial Distribution"
   ]
  },
  {
   "cell_type": "code",
   "execution_count": 28,
   "id": "8254d4cd",
   "metadata": {},
   "outputs": [
    {
     "name": "stdout",
     "output_type": "stream",
     "text": [
      "[7 7 9 3 7 8 4 4 6 3]\n"
     ]
    }
   ],
   "source": [
    "np_random_array = np.random.binomial(n=12, p=.5, size = 10)\n",
    "print(np_random_array)"
   ]
  },
  {
   "cell_type": "code",
   "execution_count": 29,
   "id": "5c6a72af",
   "metadata": {
    "scrolled": false
   },
   "outputs": [
    {
     "data": {
      "image/png": "[encoded data removed]",
      "text/plain": [
       "<Figure size 360x360 with 1 Axes>"
      ]
     },
     "metadata": {
      "needs_background": "light"
     },
     "output_type": "display_data"
    },
    {
     "data": {
      "image/png": "[encoded data removed]",
      "text/plain": [
       "<Figure size 360x360 with 1 Axes>"
      ]
     },
     "metadata": {
      "needs_background": "light"
     },
     "output_type": "display_data"
    }
   ],
   "source": [
    "# Difference between Binomial and normal distribution\n",
    "\n",
    "import seaborn as sns\n",
    "import matplotlib.pyplot as plt\n",
    "np_random_array = np.random.normal(loc=5, scale = 1, size = 1000)\n",
    "np_random_array1 = np.random.binomial(n=10,p=.5,size=1000)\n",
    "sns.displot(data = np_random_array, label=\"normal\", kind = \"kde\")\n",
    "sns.displot(data = np_random_array1, label=\"binomial\",kind = \"kde\")\n",
    "plt.show()\n",
    "\n",
    "# print(np_random_array, np_random_array1)\n"
   ]
  },
  {
   "cell_type": "markdown",
   "id": "b308f26c",
   "metadata": {},
   "source": [
    "# Mathematics in Numpy"
   ]
  },
  {
   "cell_type": "code",
   "execution_count": 30,
   "id": "628bb6c1",
   "metadata": {
    "scrolled": true
   },
   "outputs": [
    {
     "name": "stdout",
     "output_type": "stream",
     "text": [
      "[[ 2  4  6]\n",
      " [ 8 10 12]\n",
      " [14 16 18]]\n",
      "[[0 0 0]\n",
      " [0 0 0]\n",
      " [0 0 0]]\n",
      "[[ 1  4  9]\n",
      " [16 25 36]\n",
      " [49 64 81]]\n",
      "[[1. 1. 1.]\n",
      " [1. 1. 1.]\n",
      " [1. 1. 1.]]\n",
      "[[1 1 1]\n",
      " [1 1 1]\n",
      " [1 1 1]]\n",
      "[[        1         4        27]\n",
      " [      256      3125     46656]\n",
      " [   823543  16777216 387420489]]\n",
      "[[0 0 0]\n",
      " [0 0 0]\n",
      " [0 0 0]]\n",
      "[[ 2  4  6]\n",
      " [ 8 10 12]\n",
      " [14 16 18]]\n",
      "[[0 0 0]\n",
      " [0 0 0]\n",
      " [0 0 0]]\n",
      "[[ 1  4  9]\n",
      " [16 25 36]\n",
      " [49 64 81]]\n",
      "[[1. 1. 1.]\n",
      " [1. 1. 1.]\n",
      " [1. 1. 1.]]\n",
      "[[        1         4        27]\n",
      " [      256      3125     46656]\n",
      " [   823543  16777216 387420489]]\n",
      "[[0 0 0]\n",
      " [0 0 0]\n",
      " [0 0 0]]\n",
      "[[0 0 0]\n",
      " [0 0 0]\n",
      " [0 0 0]]\n",
      "[[1 0 0]\n",
      " [0 0 0]\n",
      " [0 0 0]]\n",
      "[[ 30  36  42]\n",
      " [ 66  81  96]\n",
      " [102 126 150]]\n",
      "[[1 2 3]\n",
      " [4 5 6]\n",
      " [7 8 9]]\n",
      "dot\n",
      "\n",
      "[[1 2 3]\n",
      " [4 5 6]\n",
      " [7 8 9]] [[1 2 3]\n",
      " [4 5 6]\n",
      " [7 8 9]]\n",
      "3.4\n",
      "5.0\n",
      "5.0\n",
      "5.0\n",
      "6.333333333333333\n",
      "2.581988897471611\n",
      "6.666666666666667\n",
      "\n",
      "Std & var\n",
      "[ 9.20705684  9.39371105  1.89232413  0.9690365   8.66942795  5.60108655\n",
      "  9.4495778   7.48489299  4.25216684 -2.44123301]\n",
      "5.447804763026609\n",
      "3.957722759730341 15.663569442887544\n",
      "3.957722759730341\n",
      "15.663569442887544\n"
     ]
    }
   ],
   "source": [
    "# Arithmetic operation\n",
    "np_math_array1 = np.arange(1,10).reshape(3,3)\n",
    "np_math_array2 = np.arange(1,10).reshape(3,3)\n",
    "\n",
    "print(np_math_array1 + np_math_array2)\n",
    "print(np_math_array1 - np_math_array2)\n",
    "print(np_math_array1 * np_math_array2)\n",
    "print(np_math_array1 / np_math_array2)\n",
    "print(np_math_array1 // np_math_array2)\n",
    "print(np_math_array1 ** np_math_array2)\n",
    "print(np_math_array1 % np_math_array2)\n",
    "\n",
    "\n",
    "# Using function\n",
    "print(np.add(np_math_array1, np_math_array2));\n",
    "print(np.subtract(np_math_array1, np_math_array2));\n",
    "print(np.multiply(np_math_array1, np_math_array2));\n",
    "print(np.divide(np_math_array1, np_math_array2));\n",
    "print(np.power(np_math_array1, np_math_array2));\n",
    "print(np.mod(np_math_array1, np_math_array2));\n",
    "print(np.remainder(np_math_array1, np_math_array2));\n",
    "print(np.reciprocal(np_math_array1));\n",
    "print(np.dot(np_math_array1,np_math_array2))\n",
    "print(np.absolute(np_math_array1))\n",
    "print(\"dot\")\n",
    "print()\n",
    "\n",
    "print(np_math_array1,np_math_array2)\n",
    "\n",
    "print(np.percentile(np_math_array1, 30))\n",
    "print(np.median(np_math_array1))\n",
    "print(np.mean(np_math_array1))\n",
    "print(np.average(np_math_array1))\n",
    "print(np.average(np_math_array1,weights = np_math_array2)) # weights\n",
    "\n",
    "# Standard Deviation & Variance\n",
    "# print(math.sqrt(((np_math_array1 - np.mean(np_math_array1))**2)/(np_math_array1.size()-1)))\n",
    "print(np.std(np_math_array1))\n",
    "print(np.var(np_math_array1))\n",
    "\n",
    "print()\n",
    "print(\"Std & var\")\n",
    "np_std_and_val_array = np.random.normal(loc = 5, scale = 5, size = 10)\n",
    "print(np_std_and_val_array)\n",
    "mean = np_std_and_val_array.mean()\n",
    "print(mean)\n",
    "var = sum(pow(val - mean, 2) for val in np_std_and_val_array) / np_std_and_val_array.size\n",
    "std = math.sqrt(var)\n",
    "print(std,var)\n",
    "print(np.std(np_std_and_val_array))\n",
    "print(np.var(np_std_and_val_array))\n"
   ]
  },
  {
   "cell_type": "code",
   "execution_count": 31,
   "id": "28721fe3",
   "metadata": {
    "scrolled": true
   },
   "outputs": [
    {
     "name": "stdout",
     "output_type": "stream",
     "text": [
      "[[ 0.84147098  0.90929743  0.14112001]\n",
      " [-0.7568025  -0.95892427 -0.2794155 ]\n",
      " [ 0.6569866   0.98935825  0.41211849]]\n",
      "[[0.01745241 0.0348995  0.05233596]\n",
      " [0.06975647 0.08715574 0.10452846]\n",
      " [0.12186934 0.1391731  0.15643447]]\n"
     ]
    }
   ],
   "source": [
    "# Trigonometric Function\n",
    "np_math_array1 = np.arange(1,10).reshape(3,3)\n",
    "print(np.sin(np_math_array1))\n",
    "print(np.sin(np_math_array1*np.pi/180)) #Radians\n",
    "\n",
    "# Their all trigonometric function available"
   ]
  },
  {
   "cell_type": "code",
   "execution_count": 32,
   "id": "3f8b8e08",
   "metadata": {
    "scrolled": true
   },
   "outputs": [
    {
     "name": "stdout",
     "output_type": "stream",
     "text": [
      "[[ 1.          1.81818182  2.63636364  3.45454545]\n",
      " [ 4.27272727  5.09090909  5.90909091  6.72727273]\n",
      " [ 7.54545455  8.36363636  9.18181818 10.        ]]\n",
      "[[ 1.   1.8  2.6  3.5]\n",
      " [ 4.3  5.1  5.9  6.7]\n",
      " [ 7.5  8.4  9.2 10. ]]\n",
      "[[ 1.  2.  3.  3.]\n",
      " [ 4.  5.  6.  7.]\n",
      " [ 8.  8.  9. 10.]]\n",
      "[[ 1.  1.  2.  3.]\n",
      " [ 4.  5.  5.  6.]\n",
      " [ 7.  8.  9. 10.]]\n",
      "[[ 1.  2.  3.  4.]\n",
      " [ 5.  6.  6.  7.]\n",
      " [ 8.  9. 10. 10.]]\n",
      "[[ 1  1  2  3]\n",
      " [ 4  5  5  6]\n",
      " [ 7  8  9 10]]\n"
     ]
    }
   ],
   "source": [
    "np_math_array = np.linspace(1,10, 12).reshape(3,-1)\n",
    "print(np_math_array)\n",
    "print(np.around(np_math_array, decimals = 1))\n",
    "print(np.round(np_math_array))\n",
    "print(np.floor(np_math_array))\n",
    "print(np.ceil(np_math_array))\n",
    "print(np_math_array.astype(int))"
   ]
  },
  {
   "cell_type": "code",
   "execution_count": 5,
   "id": "71b7028a",
   "metadata": {},
   "outputs": [
    {
     "name": "stdout",
     "output_type": "stream",
     "text": [
      "[[ 1.          1.81818182  2.63636364  3.45454545]\n",
      " [ 4.27272727  5.09090909  5.90909091  6.72727273]\n",
      " [ 7.54545455  8.36363636  9.18181818 10.        ]]\n",
      "\n",
      "[[ 1.          4.27272727  7.54545455]\n",
      " [ 1.81818182  5.09090909  8.36363636]\n",
      " [ 2.63636364  5.90909091  9.18181818]\n",
      " [ 3.45454545  6.72727273 10.        ]]\n",
      "\n",
      "[[ 1.          1.81818182  2.63636364  3.45454545]\n",
      " [ 4.27272727  5.09090909  5.90909091  6.72727273]\n",
      " [ 7.54545455  8.36363636  9.18181818 10.        ]]\n"
     ]
    }
   ],
   "source": [
    "np_math_array = np.linspace(1,10, 12).reshape(3,-1)\n",
    "print(np_math_array,end=\"\\n\\n\")\n",
    "np_math_array = np.transpose(np_math_array)\n",
    "print(np_math_array,end=\"\\n\\n\")\n",
    "np_math_array = np_math_array.T\n",
    "print(np_math_array)"
   ]
  }
 ],
 "metadata": {
  "kernelspec": {
   "display_name": "Python 3 (ipykernel)",
   "language": "python",
   "name": "python3"
  },
  "language_info": {
   "codemirror_mode": {
    "name": "ipython",
    "version": 3
   },
   "file_extension": ".py",
   "mimetype": "text/x-python",
   "name": "python",
   "nbconvert_exporter": "python",
   "pygments_lexer": "ipython3",
   "version": "3.10.9"
  }
 },
 "nbformat": 4,
 "nbformat_minor": 5
}
