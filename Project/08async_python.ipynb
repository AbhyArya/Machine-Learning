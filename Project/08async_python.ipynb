{
 "cells": [
  {
   "cell_type": "code",
   "execution_count": 169,
   "metadata": {},
   "outputs": [
    {
     "name": "stdout",
     "output_type": "stream",
     "text": [
      "<Process name='Process-89' parent=14544 initial>\n"
     ]
    }
   ],
   "source": [
    "# Multiprocessig\n",
    "from multiprocessing import Process\n",
    "\n",
    "def showSquare(): # the functions that you want to execute in async\n",
    "    print(2**2)\n",
    "\n",
    "p1 = Process(target=showSquare)\n",
    "p2 = Process(target=showSquare)\n",
    "p3 = Process(target=showSquare)\n",
    "p4 = Process(target=showSquare)\n",
    "p5 = Process(target=showSquare)\n",
    "p6 = Process(target=showSquare)\n",
    "print(p1)\n",
    "p1.start()\n",
    "# print(\"hello\")\n",
    "\n",
    "\n"
   ]
  },
  {
   "cell_type": "code",
   "execution_count": 166,
   "metadata": {},
   "outputs": [
    {
     "name": "stdout",
     "output_type": "stream",
     "text": [
      "9\n",
      "hello\n",
      "4\n"
     ]
    }
   ],
   "source": [
    "#Threading\n",
    "from threading import Thread\n",
    "def cb():\n",
    "    print(9)\n",
    "def sq():\n",
    "    for i in range(100000000):\n",
    "        pass\n",
    "    print(4)\n",
    "\n",
    "t1 = Thread(target=sq)\n",
    "t2 = Thread(target=cb)\n",
    "t1.start()\n",
    "t2.start()\n",
    "print(\"hello\")\n",
    "t1.join()\n",
    "t2.join()"
   ]
  },
  {
   "cell_type": "code",
   "execution_count": 170,
   "metadata": {},
   "outputs": [],
   "source": [
    "# couroutines\n",
    "\n",
    "def print_name(prefix):\n",
    "    try:\n",
    "        while True:\n",
    "            name = (yield)\n",
    "            print(prefix , \":\" , name)\n",
    "    except GeneratorExit:\n",
    "        print(\"Done !\")\n",
    "\n",
    "co = print_name(\"Hello\")\n",
    "next(co)\n",
    "co.send(\"Abhishek Kumar\")\n",
    "co.send(\"Vivek kumar\")\n",
    "co.close()"
   ]
  },
  {
   "cell_type": "code",
   "execution_count": 181,
   "metadata": {},
   "outputs": [
    {
     "name": "stdout",
     "output_type": "stream",
     "text": [
      "hello\n",
      "World\n"
     ]
    }
   ],
   "source": [
    "# AsyncIO\n",
    "import asyncio\n",
    "import time\n",
    "async def main():\n",
    "    print(\"hello\")\n",
    "    await asyncio.sleep(1)\n",
    "    print(\"World\")\n",
    "await main()\n",
    "\n",
    "\n",
    "\n",
    "\n",
    "\n",
    "\n",
    "\n",
    "\n",
    "\n"
   ]
  }
 ],
 "metadata": {
  "kernelspec": {
   "display_name": "Python 3.10.4 64-bit",
   "language": "python",
   "name": "python3"
  },
  "language_info": {
   "codemirror_mode": {
    "name": "ipython",
    "version": 3
   },
   "file_extension": ".py",
   "mimetype": "text/x-python",
   "name": "python",
   "nbconvert_exporter": "python",
   "pygments_lexer": "ipython3",
   "version": "3.10.4"
  },
  "orig_nbformat": 4,
  "vscode": {
   "interpreter": {
    "hash": "da1c26d51b37919d2f532d3ec3ba612e48e2a53c5a6a19563119fb07e68673b8"
   }
  }
 },
 "nbformat": 4,
 "nbformat_minor": 2
}
